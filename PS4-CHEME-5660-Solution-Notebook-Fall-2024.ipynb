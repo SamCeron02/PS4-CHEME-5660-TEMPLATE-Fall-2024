{
 "cells": [
  {
   "cell_type": "markdown",
   "id": "233633a8-8ba8-441b-9d9e-03232905f34e",
   "metadata": {},
   "source": [
    "# Problem Set 4 (PS4): Comparison of Portfolio Allocation Approaches\n",
    "In this problem set, students will construct a minimum variance portfolio and compare the performance of that portfolio with an equally weighted alternative and the [SP500 Index Fund `SPY`](https://finance.yahoo.com/quote/SPY/). This will be an out-of-sample `2024` comparison based on [single index models](https://en.wikipedia.org/wiki/Single-index_model) estimated using data from `2018` to `2023`.\n",
    "\n",
    "### Learning objectives\n",
    "* __Prerequisites__: Load and clean the testing dataset. In this section, we load the [single index models](https://en.wikipedia.org/wiki/Single-index_model) we estimated previously, load the out-of-sample dataset, and set constants.\n",
    "* __Task 1__: Compute Single Index Minimum Variance Portfolios. In this task, we'll compute the efficient frontier and the initial allocation for an efficient portfolio for the asset tickers you select.\n",
    "* __Task 2__: Compute Equally Weighted Portfolio. In this task, we'll construct an equally weighted portfolio of your specified assets.\n",
    "* __Task 3__: Task 3: Which approach should we choose? In this task, we'll compare the three investment approaches and determine which performs better."
   ]
  },
  {
   "cell_type": "markdown",
   "id": "ba7c790e-c766-46ae-9722-fb577f9bb751",
   "metadata": {},
   "source": [
    "## Setup\n",
    "We set up the computational environment by including [the `Include.jl` file](Include.jl). The [`Include.jl` file](Include.jl) loads external packages, various functions we will use in the exercise, and custom types to model the components of our problem.\n",
    "* See the [Julia programming language documentation](https://docs.julialang.org/en/v1/) and the [VLQuantitativeFinancePackage.jl documentation](https://github.com/varnerlab/VLQuantitativeFinancePackage.jl) for additional information on functions and types used in this material. "
   ]
  },
  {
   "cell_type": "code",
   "execution_count": null,
   "id": "87aa06a7-c79d-4338-9542-d4f93fc84b59",
   "metadata": {},
   "outputs": [
    {
     "name": "stderr",
     "output_type": "stream",
     "text": [
      "\u001b[32m\u001b[1m    Updating\u001b[22m\u001b[39m git-repo `https://github.com/varnerlab/VLQuantitativeFinancePackage.jl.git`\n",
      "\u001b[32m\u001b[1m   Resolving\u001b[22m\u001b[39m package versions...\n",
      "\u001b[32m\u001b[1m   Installed\u001b[22m\u001b[39m MathOptInterface ─ v1.33.0\n",
      "\u001b[32m\u001b[1m    Updating\u001b[22m\u001b[39m `~/Desktop/julia_work/PS4-CHEME-5660-TEMPLATE-Fall-2024/Project.toml`\n",
      "\u001b[33m⌅\u001b[39m \u001b[90m[5ae59095] \u001b[39m\u001b[92m+ Colors v0.12.11\u001b[39m\n",
      "  \u001b[90m[a93c6f00] \u001b[39m\u001b[92m+ DataFrames v1.7.0\u001b[39m\n",
      "  \u001b[90m[31c24e10] \u001b[39m\u001b[92m+ Distributions v0.25.112\u001b[39m\n",
      "  \u001b[90m[5789e2e9] \u001b[39m\u001b[92m+ FileIO v1.16.4\u001b[39m\n",
      "  \u001b[90m[60bf3e95] \u001b[39m\u001b[92m+ GLPK v1.2.1\u001b[39m\n",
      "  \u001b[90m[033835bb] \u001b[39m\u001b[92m+ JLD2 v0.5.7\u001b[39m\n",
      "  \u001b[90m[4076af6c] \u001b[39m\u001b[92m+ JuMP v1.23.3\u001b[39m\n",
      "  \u001b[90m[b8f27783] \u001b[39m\u001b[92m+ MathOptInterface v1.33.0\u001b[39m\n",
      "  \u001b[90m[91a5bcdd] \u001b[39m\u001b[92m+ Plots v1.40.8\u001b[39m\n",
      "  \u001b[90m[08abe8d2] \u001b[39m\u001b[92m+ PrettyTables v2.4.0\u001b[39m\n",
      "  \u001b[90m[10745b16] \u001b[39m\u001b[92m+ Statistics v1.11.1\u001b[39m\n",
      "  \u001b[90m[4119e0bf] \u001b[39m\u001b[92m+ VLQuantitativeFinancePackage v1.0.0-DEV `https://github.com/varnerlab/VLQuantitativeFinancePackage.jl.git#main`\u001b[39m\n",
      "  \u001b[90m[ade2ca70] \u001b[39m\u001b[93m~ Dates ⇒ v1.11.0\u001b[39m\n",
      "  \u001b[90m[37e2e46d] \u001b[39m\u001b[93m~ LinearAlgebra ⇒ v1.11.0\u001b[39m\n",
      "  \u001b[90m[8dfed614] \u001b[39m\u001b[93m~ Test ⇒ v1.11.0\u001b[39m\n",
      "\u001b[32m\u001b[1m    Updating\u001b[22m\u001b[39m `~/Desktop/julia_work/PS4-CHEME-5660-TEMPLATE-Fall-2024/Manifest.toml`\n",
      "  \u001b[90m[79e6a3ab] \u001b[39m\u001b[92m+ Adapt v4.1.0\u001b[39m\n",
      "  \u001b[90m[66dad0bd] \u001b[39m\u001b[92m+ AliasTables v1.1.3\u001b[39m\n",
      "  \u001b[90m[4fba245c] \u001b[39m\u001b[92m+ ArrayInterface v7.16.0\u001b[39m\n",
      "  \u001b[90m[6e4b80f9] \u001b[39m\u001b[92m+ BenchmarkTools v1.5.0\u001b[39m\n",
      "  \u001b[90m[d1d4a3ce] \u001b[39m\u001b[92m+ BitFlags v0.1.9\u001b[39m\n",
      "  \u001b[90m[336ed68f] \u001b[39m\u001b[92m+ CSV v0.10.15\u001b[39m\n",
      "  \u001b[90m[523fee87] \u001b[39m\u001b[92m+ CodecBzip2 v0.8.4\u001b[39m\n",
      "  \u001b[90m[944b1d66] \u001b[39m\u001b[92m+ CodecZlib v0.7.6\u001b[39m\n",
      "  \u001b[90m[35d6a980] \u001b[39m\u001b[92m+ ColorSchemes v3.27.0\u001b[39m\n",
      "\u001b[33m⌅\u001b[39m \u001b[90m[3da002f7] \u001b[39m\u001b[92m+ ColorTypes v0.11.5\u001b[39m\n",
      "  \u001b[90m[c3611d14] \u001b[39m\u001b[92m+ ColorVectorSpace v0.10.0\u001b[39m\n",
      "\u001b[33m⌅\u001b[39m \u001b[90m[5ae59095] \u001b[39m\u001b[92m+ Colors v0.12.11\u001b[39m\n",
      "  \u001b[90m[bbf7d656] \u001b[39m\u001b[92m+ CommonSubexpressions v0.3.1\u001b[39m\n",
      "  \u001b[90m[34da2185] \u001b[39m\u001b[92m+ Compat v4.16.0\u001b[39m\n",
      "  \u001b[90m[f0e56b4a] \u001b[39m\u001b[92m+ ConcurrentUtilities v2.4.2\u001b[39m\n",
      "  \u001b[90m[187b0558] \u001b[39m\u001b[92m+ ConstructionBase v1.5.8\u001b[39m\n",
      "  \u001b[90m[d38c429a] \u001b[39m\u001b[92m+ Contour v0.6.3\u001b[39m\n",
      "  \u001b[90m[a8cc5b0e] \u001b[39m\u001b[92m+ Crayons v4.1.1\u001b[39m\n",
      "  \u001b[90m[9a962f9c] \u001b[39m\u001b[92m+ DataAPI v1.16.0\u001b[39m\n",
      "  \u001b[90m[a93c6f00] \u001b[39m\u001b[92m+ DataFrames v1.7.0\u001b[39m\n",
      "  \u001b[90m[864edb3b] \u001b[39m\u001b[92m+ DataStructures v0.18.20\u001b[39m\n",
      "  \u001b[90m[e2d170a0] \u001b[39m\u001b[92m+ DataValueInterfaces v1.0.0\u001b[39m\n",
      "  \u001b[90m[8bb1440f] \u001b[39m\u001b[92m+ DelimitedFiles v1.9.1\u001b[39m\n",
      "  \u001b[90m[163ba53b] \u001b[39m\u001b[92m+ DiffResults v1.1.0\u001b[39m\n",
      "  \u001b[90m[b552c78f] \u001b[39m\u001b[92m+ DiffRules v1.15.1\u001b[39m\n",
      "  \u001b[90m[31c24e10] \u001b[39m\u001b[92m+ Distributions v0.25.112\u001b[39m\n",
      "  \u001b[90m[ffbed154] \u001b[39m\u001b[92m+ DocStringExtensions v0.9.3\u001b[39m\n",
      "  \u001b[90m[460bff9d] \u001b[39m\u001b[92m+ ExceptionUnwrapping v0.1.10\u001b[39m\n",
      "  \u001b[90m[e2ba6199] \u001b[39m\u001b[92m+ ExprTools v0.1.10\u001b[39m\n",
      "  \u001b[90m[c87230d0] \u001b[39m\u001b[92m+ FFMPEG v0.4.2\u001b[39m\n",
      "  \u001b[90m[9aa1b823] \u001b[39m\u001b[92m+ FastClosures v0.3.2\u001b[39m\n",
      "  \u001b[90m[5789e2e9] \u001b[39m\u001b[92m+ FileIO v1.16.4\u001b[39m\n",
      "  \u001b[90m[48062228] \u001b[39m\u001b[92m+ FilePathsBase v0.9.22\u001b[39m\n",
      "  \u001b[90m[1a297f60] \u001b[39m\u001b[92m+ FillArrays v1.13.0\u001b[39m\n",
      "  \u001b[90m[6a86dc24] \u001b[39m\u001b[92m+ FiniteDiff v2.26.0\u001b[39m\n",
      "  \u001b[90m[53c48c17] \u001b[39m\u001b[92m+ FixedPointNumbers v0.8.5\u001b[39m\n",
      "  \u001b[90m[1fa38f19] \u001b[39m\u001b[92m+ Format v1.3.7\u001b[39m\n",
      "  \u001b[90m[f6369f11] \u001b[39m\u001b[92m+ ForwardDiff v0.10.36\u001b[39m\n",
      "  \u001b[90m[60bf3e95] \u001b[39m\u001b[92m+ GLPK v1.2.1\u001b[39m\n",
      "  \u001b[90m[28b8d3ca] \u001b[39m\u001b[92m+ GR v0.73.8\u001b[39m\n",
      "  \u001b[90m[42e2da0e] \u001b[39m\u001b[92m+ Grisu v1.0.2\u001b[39m\n",
      "  \u001b[90m[cd3eb016] \u001b[39m\u001b[92m+ HTTP v1.10.8\u001b[39m\n",
      "  \u001b[90m[34004b35] \u001b[39m\u001b[92m+ HypergeometricFunctions v0.3.24\u001b[39m\n",
      "  \u001b[90m[842dd82b] \u001b[39m\u001b[92m+ InlineStrings v1.4.2\u001b[39m\n",
      "  \u001b[90m[41ab1584] \u001b[39m\u001b[92m+ InvertedIndices v1.3.0\u001b[39m\n",
      "  \u001b[90m[92d709cd] \u001b[39m\u001b[92m+ IrrationalConstants v0.2.2\u001b[39m\n",
      "  \u001b[90m[82899510] \u001b[39m\u001b[92m+ IteratorInterfaceExtensions v1.0.0\u001b[39m\n",
      "  \u001b[90m[033835bb] \u001b[39m\u001b[92m+ JLD2 v0.5.7\u001b[39m\n",
      "  \u001b[90m[1019f520] \u001b[39m\u001b[92m+ JLFzf v0.1.8\u001b[39m\n",
      "  \u001b[90m[692b3bcd] \u001b[39m\u001b[92m+ JLLWrappers v1.6.1\u001b[39m\n",
      "  \u001b[90m[682c06a0] \u001b[39m\u001b[92m+ JSON v0.21.4\u001b[39m\n",
      "  \u001b[90m[4076af6c] \u001b[39m\u001b[92m+ JuMP v1.23.3\u001b[39m\n",
      "  \u001b[90m[b964fa9f] \u001b[39m\u001b[92m+ LaTeXStrings v1.4.0\u001b[39m\n",
      "  \u001b[90m[23fbe1c1] \u001b[39m\u001b[92m+ Latexify v0.16.5\u001b[39m\n",
      "  \u001b[90m[d3d80556] \u001b[39m\u001b[92m+ LineSearches v7.3.0\u001b[39m\n",
      "  \u001b[90m[5c8ed15e] \u001b[39m\u001b[92m+ LinearOperators v2.9.0\u001b[39m\n",
      "  \u001b[90m[2ab3a3ac] \u001b[39m\u001b[92m+ LogExpFunctions v0.3.28\u001b[39m\n",
      "  \u001b[90m[e6f89c97] \u001b[39m\u001b[92m+ LoggingExtras v1.1.0\u001b[39m\n",
      "  \u001b[90m[2fda8390] \u001b[39m\u001b[92m+ LsqFit v0.15.0\u001b[39m\n",
      "  \u001b[90m[1914dd2f] \u001b[39m\u001b[92m+ MacroTools v0.5.13\u001b[39m\n",
      "\u001b[32m⌃\u001b[39m \u001b[90m[2621e9c9] \u001b[39m\u001b[92m+ MadNLP v0.7.0\u001b[39m\n",
      "  \u001b[90m[b8f27783] \u001b[39m\u001b[92m+ MathOptInterface v1.33.0\u001b[39m\n",
      "  \u001b[90m[739be429] \u001b[39m\u001b[92m+ MbedTLS v1.1.9\u001b[39m\n",
      "  \u001b[90m[442fdcdd] \u001b[39m\u001b[92m+ Measures v0.3.2\u001b[39m\n",
      "  \u001b[90m[e1d29d7a] \u001b[39m\u001b[92m+ Missings v1.2.0\u001b[39m\n",
      "  \u001b[90m[d8a4904e] \u001b[39m\u001b[92m+ MutableArithmetics v1.5.2\u001b[39m\n",
      "\u001b[33m⌅\u001b[39m \u001b[90m[a4795742] \u001b[39m\u001b[92m+ NLPModels v0.20.0\u001b[39m\n",
      "  \u001b[90m[d41bc354] \u001b[39m\u001b[92m+ NLSolversBase v7.8.3\u001b[39m\n",
      "  \u001b[90m[77ba4419] \u001b[39m\u001b[92m+ NaNMath v1.0.2\u001b[39m\n",
      "  \u001b[90m[4d8831e6] \u001b[39m\u001b[92m+ OpenSSL v1.4.3\u001b[39m\n",
      "  \u001b[90m[429524aa] \u001b[39m\u001b[92m+ Optim v1.9.4\u001b[39m\n",
      "  \u001b[90m[bac558e1] \u001b[39m\u001b[92m+ OrderedCollections v1.6.3\u001b[39m\n",
      "  \u001b[90m[90014a1f] \u001b[39m\u001b[92m+ PDMats v0.11.31\u001b[39m\n",
      "  \u001b[90m[d96e819e] \u001b[39m\u001b[92m+ Parameters v0.12.3\u001b[39m\n",
      "  \u001b[90m[69de0a69] \u001b[39m\u001b[92m+ Parsers v2.8.1\u001b[39m\n",
      "  \u001b[90m[b98c9c47] \u001b[39m\u001b[92m+ Pipe v1.3.0\u001b[39m\n",
      "  \u001b[90m[ccf2f8ad] \u001b[39m\u001b[92m+ PlotThemes v3.2.0\u001b[39m\n",
      "  \u001b[90m[995b91a9] \u001b[39m\u001b[92m+ PlotUtils v1.4.2\u001b[39m\n",
      "  \u001b[90m[91a5bcdd] \u001b[39m\u001b[92m+ Plots v1.40.8\u001b[39m\n",
      "  \u001b[90m[2dfb63ee] \u001b[39m\u001b[92m+ PooledArrays v1.4.3\u001b[39m\n",
      "  \u001b[90m[85a6dd25] \u001b[39m\u001b[92m+ PositiveFactorizations v0.2.4\u001b[39m\n",
      "  \u001b[90m[aea7be01] \u001b[39m\u001b[92m+ PrecompileTools v1.2.1\u001b[39m\n",
      "  \u001b[90m[21216c6a] \u001b[39m\u001b[92m+ Preferences v1.4.3\u001b[39m\n",
      "  \u001b[90m[08abe8d2] \u001b[39m\u001b[92m+ PrettyTables v2.4.0\u001b[39m\n",
      "  \u001b[90m[43287f4e] \u001b[39m\u001b[92m+ PtrArrays v1.2.1\u001b[39m\n",
      "  \u001b[90m[1fd47b50] \u001b[39m\u001b[92m+ QuadGK v2.11.1\u001b[39m\n",
      "  \u001b[90m[3cdcf5f2] \u001b[39m\u001b[92m+ RecipesBase v1.3.4\u001b[39m\n",
      "  \u001b[90m[01d81517] \u001b[39m\u001b[92m+ RecipesPipeline v0.6.12\u001b[39m\n",
      "  \u001b[90m[189a3867] \u001b[39m\u001b[92m+ Reexport v1.2.2\u001b[39m\n",
      "  \u001b[90m[05181044] \u001b[39m\u001b[92m+ RelocatableFolders v1.0.1\u001b[39m\n",
      "  \u001b[90m[ae029012] \u001b[39m\u001b[92m+ Requires v1.3.0\u001b[39m\n",
      "  \u001b[90m[79098fc4] \u001b[39m\u001b[92m+ Rmath v0.8.0\u001b[39m\n",
      "  \u001b[90m[6c6a2e73] \u001b[39m\u001b[92m+ Scratch v1.2.1\u001b[39m\n",
      "  \u001b[90m[91c51154] \u001b[39m\u001b[92m+ SentinelArrays v1.4.6\u001b[39m\n",
      "  \u001b[90m[efcf1570] \u001b[39m\u001b[92m+ Setfield v1.1.1\u001b[39m\n",
      "  \u001b[90m[992d4aef] \u001b[39m\u001b[92m+ Showoff v1.0.3\u001b[39m\n",
      "  \u001b[90m[777ac1f9] \u001b[39m\u001b[92m+ SimpleBufferStream v1.2.0\u001b[39m\n",
      "  \u001b[90m[ff4d7338] \u001b[39m\u001b[92m+ SolverCore v0.3.8\u001b[39m\n",
      "  \u001b[90m[a2af1166] \u001b[39m\u001b[92m+ SortingAlgorithms v1.2.1\u001b[39m\n",
      "  \u001b[90m[276daf66] \u001b[39m\u001b[92m+ SpecialFunctions v2.4.0\u001b[39m\n",
      "  \u001b[90m[860ef19b] \u001b[39m\u001b[92m+ StableRNGs v1.0.2\u001b[39m\n",
      "  \u001b[90m[1e83bf80] \u001b[39m\u001b[92m+ StaticArraysCore v1.4.3\u001b[39m\n",
      "  \u001b[90m[10745b16] \u001b[39m\u001b[92m+ Statistics v1.11.1\u001b[39m\n",
      "  \u001b[90m[82ae8749] \u001b[39m\u001b[92m+ StatsAPI v1.7.0\u001b[39m\n",
      "  \u001b[90m[2913bbd2] \u001b[39m\u001b[92m+ StatsBase v0.34.3\u001b[39m\n",
      "  \u001b[90m[4c63d2b9] \u001b[39m\u001b[92m+ StatsFuns v1.3.2\u001b[39m\n",
      "  \u001b[90m[892a3eda] \u001b[39m\u001b[92m+ StringManipulation v0.4.0\u001b[39m\n",
      "  \u001b[90m[3783bdb8] \u001b[39m\u001b[92m+ TableTraits v1.0.1\u001b[39m\n",
      "  \u001b[90m[bd369af6] \u001b[39m\u001b[92m+ Tables v1.12.0\u001b[39m\n",
      "  \u001b[90m[62fd8b95] \u001b[39m\u001b[92m+ TensorCore v0.1.1\u001b[39m\n",
      "  \u001b[90m[a759f4b9] \u001b[39m\u001b[92m+ TimerOutputs v0.5.25\u001b[39m\n",
      "  \u001b[90m[3bb67fe8] \u001b[39m\u001b[92m+ TranscodingStreams v0.11.3\u001b[39m\n",
      "  \u001b[90m[5c2747f8] \u001b[39m\u001b[92m+ URIs v1.5.1\u001b[39m\n",
      "  \u001b[90m[3a884ed6] \u001b[39m\u001b[92m+ UnPack v1.0.2\u001b[39m\n",
      "  \u001b[90m[1cfade01] \u001b[39m\u001b[92m+ UnicodeFun v0.4.1\u001b[39m\n",
      "  \u001b[90m[1986cc42] \u001b[39m\u001b[92m+ Unitful v1.21.0\u001b[39m\n",
      "  \u001b[90m[45397f5d] \u001b[39m\u001b[92m+ UnitfulLatexify v1.6.4\u001b[39m\n",
      "  \u001b[90m[41fe7b60] \u001b[39m\u001b[92m+ Unzip v0.2.0\u001b[39m\n",
      "  \u001b[90m[4119e0bf] \u001b[39m\u001b[92m+ VLQuantitativeFinancePackage v1.0.0-DEV `https://github.com/varnerlab/VLQuantitativeFinancePackage.jl.git#main`\u001b[39m\n",
      "  \u001b[90m[ea10d353] \u001b[39m\u001b[92m+ WeakRefStrings v1.4.2\u001b[39m\n",
      "  \u001b[90m[76eceee3] \u001b[39m\u001b[92m+ WorkerUtilities v1.6.1\u001b[39m\n",
      "  \u001b[90m[6e34b625] \u001b[39m\u001b[92m+ Bzip2_jll v1.0.8+2\u001b[39m\n",
      "  \u001b[90m[83423d85] \u001b[39m\u001b[92m+ Cairo_jll v1.18.2+1\u001b[39m\n",
      "  \u001b[90m[ee1fde0b] \u001b[39m\u001b[92m+ Dbus_jll v1.14.10+0\u001b[39m\n",
      "  \u001b[90m[2702e6a9] \u001b[39m\u001b[92m+ EpollShim_jll v0.0.20230411+0\u001b[39m\n",
      "  \u001b[90m[2e619515] \u001b[39m\u001b[92m+ Expat_jll v2.6.2+0\u001b[39m\n",
      "\u001b[33m⌅\u001b[39m \u001b[90m[b22a6f82] \u001b[39m\u001b[92m+ FFMPEG_jll v4.4.4+1\u001b[39m\n",
      "  \u001b[90m[a3f928ae] \u001b[39m\u001b[92m+ Fontconfig_jll v2.13.96+0\u001b[39m\n",
      "  \u001b[90m[d7e528f0] \u001b[39m\u001b[92m+ FreeType2_jll v2.13.2+0\u001b[39m\n",
      "  \u001b[90m[559328eb] \u001b[39m\u001b[92m+ FriBidi_jll v1.0.14+0\u001b[39m\n",
      "  \u001b[90m[0656b61e] \u001b[39m\u001b[92m+ GLFW_jll v3.4.0+1\u001b[39m\n",
      "  \u001b[90m[e8aa6df9] \u001b[39m\u001b[92m+ GLPK_jll v5.0.1+0\u001b[39m\n",
      "  \u001b[90m[d2c73de3] \u001b[39m\u001b[92m+ GR_jll v0.73.8+0\u001b[39m\n",
      "  \u001b[90m[78b55507] \u001b[39m\u001b[92m+ Gettext_jll v0.21.0+0\u001b[39m\n",
      "  \u001b[90m[7746bdde] \u001b[39m\u001b[92m+ Glib_jll v2.80.5+0\u001b[39m\n",
      "  \u001b[90m[3b182d85] \u001b[39m\u001b[92m+ Graphite2_jll v1.3.14+0\u001b[39m\n",
      "  \u001b[90m[2e76f6c2] \u001b[39m\u001b[92m+ HarfBuzz_jll v8.3.1+0\u001b[39m\n",
      "  \u001b[90m[aacddb02] \u001b[39m\u001b[92m+ JpegTurbo_jll v3.0.4+0\u001b[39m\n",
      "  \u001b[90m[c1c5ebd0] \u001b[39m\u001b[92m+ LAME_jll v3.100.2+0\u001b[39m\n",
      "  \u001b[90m[88015f11] \u001b[39m\u001b[92m+ LERC_jll v4.0.0+0\u001b[39m\n",
      "  \u001b[90m[1d63c593] \u001b[39m\u001b[92m+ LLVMOpenMP_jll v18.1.7+0\u001b[39m\n",
      "  \u001b[90m[dd4b983a] \u001b[39m\u001b[92m+ LZO_jll v2.10.2+1\u001b[39m\n",
      "\u001b[33m⌅\u001b[39m \u001b[90m[e9f186c6] \u001b[39m\u001b[92m+ Libffi_jll v3.2.2+1\u001b[39m\n",
      "  \u001b[90m[d4300ac3] \u001b[39m\u001b[92m+ Libgcrypt_jll v1.11.0+0\u001b[39m\n",
      "  \u001b[90m[7e76a0d4] \u001b[39m\u001b[92m+ Libglvnd_jll v1.6.0+0\u001b[39m\n",
      "  \u001b[90m[7add5ba3] \u001b[39m\u001b[92m+ Libgpg_error_jll v1.50.0+0\u001b[39m\n",
      "  \u001b[90m[94ce4f54] \u001b[39m\u001b[92m+ Libiconv_jll v1.17.0+1\u001b[39m\n",
      "  \u001b[90m[4b2f31a3] \u001b[39m\u001b[92m+ Libmount_jll v2.40.1+0\u001b[39m\n",
      "  \u001b[90m[89763e89] \u001b[39m\u001b[92m+ Libtiff_jll v4.7.0+0\u001b[39m\n",
      "  \u001b[90m[38a345b3] \u001b[39m\u001b[92m+ Libuuid_jll v2.40.1+0\u001b[39m\n",
      "  \u001b[90m[e7412a2a] \u001b[39m\u001b[92m+ Ogg_jll v1.3.5+1\u001b[39m\n",
      "  \u001b[90m[458c3c95] \u001b[39m\u001b[92m+ OpenSSL_jll v3.0.15+1\u001b[39m\n",
      "  \u001b[90m[efe28fd5] \u001b[39m\u001b[92m+ OpenSpecFun_jll v0.5.5+0\u001b[39m\n",
      "  \u001b[90m[91d4177d] \u001b[39m\u001b[92m+ Opus_jll v1.3.3+0\u001b[39m\n",
      "  \u001b[90m[36c8627f] \u001b[39m\u001b[92m+ Pango_jll v1.54.1+0\u001b[39m\n",
      "  \u001b[90m[30392449] \u001b[39m\u001b[92m+ Pixman_jll v0.43.4+0\u001b[39m\n",
      "  \u001b[90m[c0090381] \u001b[39m\u001b[92m+ Qt6Base_jll v6.7.1+1\u001b[39m\n",
      "  \u001b[90m[629bc702] \u001b[39m\u001b[92m+ Qt6Declarative_jll v6.7.1+2\u001b[39m\n",
      "  \u001b[90m[ce943373] \u001b[39m\u001b[92m+ Qt6ShaderTools_jll v6.7.1+1\u001b[39m\n",
      "  \u001b[90m[e99dba38] \u001b[39m\u001b[92m+ Qt6Wayland_jll v6.7.1+1\u001b[39m\n",
      "  \u001b[90m[f50d1b31] \u001b[39m\u001b[92m+ Rmath_jll v0.5.1+0\u001b[39m\n",
      "  \u001b[90m[a44049a8] \u001b[39m\u001b[92m+ Vulkan_Loader_jll v1.3.243+0\u001b[39m\n",
      "  \u001b[90m[a2964d1f] \u001b[39m\u001b[92m+ Wayland_jll v1.21.0+1\u001b[39m\n",
      "  \u001b[90m[2381bf8a] \u001b[39m\u001b[92m+ Wayland_protocols_jll v1.31.0+0\u001b[39m\n",
      "  \u001b[90m[02c8fc9c] \u001b[39m\u001b[92m+ XML2_jll v2.13.4+0\u001b[39m\n",
      "  \u001b[90m[aed1982a] \u001b[39m\u001b[92m+ XSLT_jll v1.1.41+0\u001b[39m\n",
      "  \u001b[90m[ffd25f8a] \u001b[39m\u001b[92m+ XZ_jll v5.6.3+0\u001b[39m\n",
      "  \u001b[90m[f67eecfb] \u001b[39m\u001b[92m+ Xorg_libICE_jll v1.1.1+0\u001b[39m\n",
      "  \u001b[90m[c834827a] \u001b[39m\u001b[92m+ Xorg_libSM_jll v1.2.4+0\u001b[39m\n",
      "  \u001b[90m[4f6342f7] \u001b[39m\u001b[92m+ Xorg_libX11_jll v1.8.6+0\u001b[39m\n",
      "  \u001b[90m[0c0b7dd1] \u001b[39m\u001b[92m+ Xorg_libXau_jll v1.0.11+0\u001b[39m\n",
      "  \u001b[90m[935fb764] \u001b[39m\u001b[92m+ Xorg_libXcursor_jll v1.2.0+4\u001b[39m\n",
      "  \u001b[90m[a3789734] \u001b[39m\u001b[92m+ Xorg_libXdmcp_jll v1.1.4+0\u001b[39m\n",
      "  \u001b[90m[1082639a] \u001b[39m\u001b[92m+ Xorg_libXext_jll v1.3.6+0\u001b[39m\n",
      "  \u001b[90m[d091e8ba] \u001b[39m\u001b[92m+ Xorg_libXfixes_jll v5.0.3+4\u001b[39m\n",
      "  \u001b[90m[a51aa0fd] \u001b[39m\u001b[92m+ Xorg_libXi_jll v1.7.10+4\u001b[39m\n",
      "  \u001b[90m[d1454406] \u001b[39m\u001b[92m+ Xorg_libXinerama_jll v1.1.4+4\u001b[39m\n",
      "  \u001b[90m[ec84b674] \u001b[39m\u001b[92m+ Xorg_libXrandr_jll v1.5.2+4\u001b[39m\n",
      "  \u001b[90m[ea2f1a96] \u001b[39m\u001b[92m+ Xorg_libXrender_jll v0.9.11+0\u001b[39m\n",
      "  \u001b[90m[14d82f49] \u001b[39m\u001b[92m+ Xorg_libpthread_stubs_jll v0.1.1+0\u001b[39m\n",
      "  \u001b[90m[c7cfdc94] \u001b[39m\u001b[92m+ Xorg_libxcb_jll v1.17.0+0\u001b[39m\n",
      "  \u001b[90m[cc61e674] \u001b[39m\u001b[92m+ Xorg_libxkbfile_jll v1.1.2+0\u001b[39m\n",
      "  \u001b[90m[e920d4aa] \u001b[39m\u001b[92m+ Xorg_xcb_util_cursor_jll v0.1.4+0\u001b[39m\n",
      "  \u001b[90m[12413925] \u001b[39m\u001b[92m+ Xorg_xcb_util_image_jll v0.4.0+1\u001b[39m\n",
      "  \u001b[90m[2def613f] \u001b[39m\u001b[92m+ Xorg_xcb_util_jll v0.4.0+1\u001b[39m\n",
      "  \u001b[90m[975044d2] \u001b[39m\u001b[92m+ Xorg_xcb_util_keysyms_jll v0.4.0+1\u001b[39m\n",
      "  \u001b[90m[0d47668e] \u001b[39m\u001b[92m+ Xorg_xcb_util_renderutil_jll v0.3.9+1\u001b[39m\n",
      "  \u001b[90m[c22f9ab0] \u001b[39m\u001b[92m+ Xorg_xcb_util_wm_jll v0.4.1+1\u001b[39m\n",
      "  \u001b[90m[35661453] \u001b[39m\u001b[92m+ Xorg_xkbcomp_jll v1.4.6+0\u001b[39m\n",
      "  \u001b[90m[33bec58e] \u001b[39m\u001b[92m+ Xorg_xkeyboard_config_jll v2.39.0+0\u001b[39m\n",
      "  \u001b[90m[c5fb5394] \u001b[39m\u001b[92m+ Xorg_xtrans_jll v1.5.0+0\u001b[39m\n",
      "  \u001b[90m[3161d3a3] \u001b[39m\u001b[92m+ Zstd_jll v1.5.6+1\u001b[39m\n",
      "  \u001b[90m[35ca27e7] \u001b[39m\u001b[92m+ eudev_jll v3.2.9+0\u001b[39m\n",
      "  \u001b[90m[214eeab7] \u001b[39m\u001b[92m+ fzf_jll v0.53.0+0\u001b[39m\n",
      "  \u001b[90m[1a1c6b14] \u001b[39m\u001b[92m+ gperf_jll v3.1.1+0\u001b[39m\n",
      "  \u001b[90m[a4ae2306] \u001b[39m\u001b[92m+ libaom_jll v3.9.0+0\u001b[39m\n",
      "  \u001b[90m[0ac62f75] \u001b[39m\u001b[92m+ libass_jll v0.15.2+0\u001b[39m\n",
      "  \u001b[90m[1183f4f0] \u001b[39m\u001b[92m+ libdecor_jll v0.2.2+0\u001b[39m\n",
      "  \u001b[90m[2db6ffa8] \u001b[39m\u001b[92m+ libevdev_jll v1.11.0+0\u001b[39m\n",
      "  \u001b[90m[f638f0a6] \u001b[39m\u001b[92m+ libfdk_aac_jll v2.0.3+0\u001b[39m\n",
      "  \u001b[90m[36db933b] \u001b[39m\u001b[92m+ libinput_jll v1.18.0+0\u001b[39m\n",
      "  \u001b[90m[b53b4c65] \u001b[39m\u001b[92m+ libpng_jll v1.6.44+0\u001b[39m\n",
      "  \u001b[90m[f27f6e37] \u001b[39m\u001b[92m+ libvorbis_jll v1.3.7+2\u001b[39m\n",
      "  \u001b[90m[009596ad] \u001b[39m\u001b[92m+ mtdev_jll v1.1.6+0\u001b[39m\n",
      "\u001b[33m⌅\u001b[39m \u001b[90m[1270edf5] \u001b[39m\u001b[92m+ x264_jll v2021.5.5+0\u001b[39m\n",
      "\u001b[33m⌅\u001b[39m \u001b[90m[dfaa095f] \u001b[39m\u001b[92m+ x265_jll v3.5.0+0\u001b[39m\n",
      "  \u001b[90m[d8fb68d0] \u001b[39m\u001b[92m+ xkbcommon_jll v1.4.1+1\u001b[39m\n",
      "  \u001b[90m[0dad84c5] \u001b[39m\u001b[92m+ ArgTools v1.1.2\u001b[39m\n",
      "  \u001b[90m[56f22d72] \u001b[39m\u001b[92m+ Artifacts v1.11.0\u001b[39m\n",
      "  \u001b[90m[2a0f44e3] \u001b[39m\u001b[92m+ Base64 v1.11.0\u001b[39m\n",
      "  \u001b[90m[ade2ca70] \u001b[39m\u001b[92m+ Dates v1.11.0\u001b[39m\n",
      "  \u001b[90m[8ba89e20] \u001b[39m\u001b[92m+ Distributed v1.11.0\u001b[39m\n",
      "  \u001b[90m[f43a241f] \u001b[39m\u001b[92m+ Downloads v1.6.0\u001b[39m\n",
      "  \u001b[90m[7b1f6079] \u001b[39m\u001b[92m+ FileWatching v1.11.0\u001b[39m\n",
      "  \u001b[90m[9fa8497b] \u001b[39m\u001b[92m+ Future v1.11.0\u001b[39m\n",
      "  \u001b[90m[b77e0a4c] \u001b[39m\u001b[92m+ InteractiveUtils v1.11.0\u001b[39m\n",
      "  \u001b[90m[b27032c2] \u001b[39m\u001b[92m+ LibCURL v0.6.4\u001b[39m\n",
      "  \u001b[90m[76f85450] \u001b[39m\u001b[92m+ LibGit2 v1.11.0\u001b[39m\n",
      "  \u001b[90m[8f399da3] \u001b[39m\u001b[92m+ Libdl v1.11.0\u001b[39m\n",
      "  \u001b[90m[37e2e46d] \u001b[39m\u001b[92m+ LinearAlgebra v1.11.0\u001b[39m\n",
      "  \u001b[90m[56ddb016] \u001b[39m\u001b[92m+ Logging v1.11.0\u001b[39m\n",
      "  \u001b[90m[d6f4376e] \u001b[39m\u001b[92m+ Markdown v1.11.0\u001b[39m\n",
      "  \u001b[90m[a63ad114] \u001b[39m\u001b[92m+ Mmap v1.11.0\u001b[39m\n",
      "  \u001b[90m[ca575930] \u001b[39m\u001b[92m+ NetworkOptions v1.2.0\u001b[39m\n",
      "  \u001b[90m[44cfe95a] \u001b[39m\u001b[92m+ Pkg v1.11.0\u001b[39m\n",
      "  \u001b[90m[de0858da] \u001b[39m\u001b[92m+ Printf v1.11.0\u001b[39m\n",
      "  \u001b[90m[9abbd945] \u001b[39m\u001b[92m+ Profile v1.11.0\u001b[39m\n",
      "  \u001b[90m[3fa0cd96] \u001b[39m\u001b[92m+ REPL v1.11.0\u001b[39m\n",
      "  \u001b[90m[9a3f8284] \u001b[39m\u001b[92m+ Random v1.11.0\u001b[39m\n",
      "  \u001b[90m[ea8e919c] \u001b[39m\u001b[92m+ SHA v0.7.0\u001b[39m\n",
      "  \u001b[90m[9e88b42a] \u001b[39m\u001b[92m+ Serialization v1.11.0\u001b[39m\n",
      "  \u001b[90m[6462fe0b] \u001b[39m\u001b[92m+ Sockets v1.11.0\u001b[39m\n",
      "  \u001b[90m[2f01184e] \u001b[39m\u001b[92m+ SparseArrays v1.11.0\u001b[39m\n",
      "  \u001b[90m[f489334b] \u001b[39m\u001b[92m+ StyledStrings v1.11.0\u001b[39m\n",
      "  \u001b[90m[4607b0f0] \u001b[39m\u001b[92m+ SuiteSparse\u001b[39m\n",
      "  \u001b[90m[fa267f1f] \u001b[39m\u001b[92m+ TOML v1.0.3\u001b[39m\n",
      "  \u001b[90m[a4e569a6] \u001b[39m\u001b[92m+ Tar v1.10.0\u001b[39m\n",
      "  \u001b[90m[8dfed614] \u001b[39m\u001b[92m+ Test v1.11.0\u001b[39m\n",
      "  \u001b[90m[cf7118a7] \u001b[39m\u001b[92m+ UUIDs v1.11.0\u001b[39m\n",
      "  \u001b[90m[4ec0a83e] \u001b[39m\u001b[92m+ Unicode v1.11.0\u001b[39m\n",
      "  \u001b[90m[e66e0078] \u001b[39m\u001b[92m+ CompilerSupportLibraries_jll v1.1.1+0\u001b[39m\n",
      "  \u001b[90m[781609d7] \u001b[39m\u001b[92m+ GMP_jll v6.3.0+0\u001b[39m\n",
      "  \u001b[90m[deac9b47] \u001b[39m\u001b[92m+ LibCURL_jll v8.6.0+0\u001b[39m\n",
      "  \u001b[90m[e37daf67] \u001b[39m\u001b[92m+ LibGit2_jll v1.7.2+0\u001b[39m\n",
      "  \u001b[90m[29816b5a] \u001b[39m\u001b[92m+ LibSSH2_jll v1.11.0+1\u001b[39m\n",
      "  \u001b[90m[c8ffd9c3] \u001b[39m\u001b[92m+ MbedTLS_jll v2.28.6+0\u001b[39m\n",
      "  \u001b[90m[14a3606d] \u001b[39m\u001b[92m+ MozillaCACerts_jll v2023.12.12\u001b[39m\n",
      "  \u001b[90m[4536629a] \u001b[39m\u001b[92m+ OpenBLAS_jll v0.3.27+1\u001b[39m\n",
      "  \u001b[90m[05823500] \u001b[39m\u001b[92m+ OpenLibm_jll v0.8.1+2\u001b[39m\n",
      "  \u001b[90m[efcefdf7] \u001b[39m\u001b[92m+ PCRE2_jll v10.42.0+1\u001b[39m\n",
      "  \u001b[90m[bea87d4a] \u001b[39m\u001b[92m+ SuiteSparse_jll v7.7.0+0\u001b[39m\n",
      "  \u001b[90m[83775a58] \u001b[39m\u001b[92m+ Zlib_jll v1.2.13+1\u001b[39m\n",
      "  \u001b[90m[8e850b90] \u001b[39m\u001b[92m+ libblastrampoline_jll v5.11.0+0\u001b[39m\n",
      "  \u001b[90m[8e850ede] \u001b[39m\u001b[92m+ nghttp2_jll v1.59.0+0\u001b[39m\n",
      "  \u001b[90m[3f19e933] \u001b[39m\u001b[92m+ p7zip_jll v17.4.0+2\u001b[39m\n",
      "\u001b[36m\u001b[1m        Info\u001b[22m\u001b[39m Packages marked with \u001b[32m⌃\u001b[39m and \u001b[33m⌅\u001b[39m have new versions available. Those with \u001b[32m⌃\u001b[39m may be upgradable, but those with \u001b[33m⌅\u001b[39m are restricted by compatibility constraints from upgrading. To see why use `status --outdated -m`\n",
      "\u001b[92m\u001b[1mPrecompiling\u001b[22m\u001b[39m project...\n",
      "  39480.3 ms\u001b[32m  ✓ \u001b[39mMathOptInterface\n",
      "   2552.6 ms\u001b[32m  ✓ \u001b[39m\u001b[90mOptim → OptimMOIExt\u001b[39m\n",
      "   3734.5 ms\u001b[32m  ✓ \u001b[39m\u001b[90mMadNLP\u001b[39m\n",
      "   3838.4 ms\u001b[32m  ✓ \u001b[39mGLPK\n",
      "  11588.9 ms\u001b[32m  ✓ \u001b[39mJuMP\n",
      "   4397.8 ms\u001b[32m  ✓ \u001b[39mVLQuantitativeFinancePackage\n",
      "  6 dependencies successfully precompiled in 56 seconds. 261 already precompiled.\n",
      "\u001b[32m\u001b[1m  Activating\u001b[22m\u001b[39m project at `~/Desktop/julia_work/PS4-CHEME-5660-TEMPLATE-Fall-2024`\n",
      "\u001b[32m\u001b[1m  No Changes\u001b[22m\u001b[39m to `~/Desktop/julia_work/PS4-CHEME-5660-TEMPLATE-Fall-2024/Project.toml`\n",
      "\u001b[32m\u001b[1m  No Changes\u001b[22m\u001b[39m to `~/Desktop/julia_work/PS4-CHEME-5660-TEMPLATE-Fall-2024/Manifest.toml`\n",
      "\u001b[32m\u001b[1m    Updating\u001b[22m\u001b[39m registry at `~/.julia/registries/General.toml`\n",
      "\u001b[32m\u001b[1m    Updating\u001b[22m\u001b[39m git-repo `https://github.com/varnerlab/VLQuantitativeFinancePackage.jl.git`\n",
      "\u001b[32m\u001b[1m  No Changes\u001b[22m\u001b[39m to `~/Desktop/julia_work/PS4-CHEME-5660-TEMPLATE-Fall-2024/Project.toml`\n",
      "\u001b[32m\u001b[1m  No Changes\u001b[22m\u001b[39m to `~/Desktop/julia_work/PS4-CHEME-5660-TEMPLATE-Fall-2024/Manifest.toml`\n",
      "\u001b[36m\u001b[1m[ \u001b[22m\u001b[39m\u001b[36m\u001b[1mInfo: \u001b[22m\u001b[39mPrecompiling VLQuantitativeFinancePackage [4119e0bf-20d0-4785-913e-5ebdb0caa218] (cache misses: wrong dep version loaded (10), wrong source (2), invalid header (6))\n"
     ]
    }
   ],
   "source": [
    "include(\"Include.jl\");"
   ]
  },
  {
   "cell_type": "markdown",
   "id": "f9b79d08-bf8a-4f4b-9f98-48be89c20ed9",
   "metadata": {},
   "source": [
    "## Prerequisites: Load and clean the testing dataset\n",
    "In this section, we load the [single index models](https://en.wikipedia.org/wiki/Single-index_model) we estimated previously, load the out-of-sample dataset, and set constants. \n",
    "\n",
    "### Testing data\n",
    "We gathered a daily open-high-low-close `dataset` for each firm in the [S&P500](https://en.wikipedia.org/wiki/S%26P_500) from `01-03-2024` until `10-25-24` close, along with data for a few exchange-traded funds and volatility products during that time. We load the `prediction_dataset` by calling the `MyOutOfSampleMarketDataSet()` function:"
   ]
  },
  {
   "cell_type": "code",
   "execution_count": null,
   "id": "b0f38545-a09b-462b-a755-c742c8da058c",
   "metadata": {},
   "outputs": [],
   "source": [
    "out_of_sample_dataset = MyOutOfSampleMarketDataSet() |> x-> x[\"dataset\"]"
   ]
  },
  {
   "cell_type": "markdown",
   "id": "6fad1196-36a5-4495-aa78-380193b41501",
   "metadata": {},
   "source": [
    "Now, let's get the number of trading days of data that we have to experiment with. "
   ]
  },
  {
   "cell_type": "code",
   "execution_count": null,
   "id": "7c344972-f3ea-4335-a8ef-f8788152354b",
   "metadata": {},
   "outputs": [],
   "source": [
    "number_of_trading_days = out_of_sample_dataset[\"AAPL\"] |> nrow; # max number of days, you can reset for shorter durations"
   ]
  },
  {
   "cell_type": "markdown",
   "id": "ca605922-7ef3-4d34-b283-a7a2bddeedd7",
   "metadata": {},
   "source": [
    "### Load single index models and compute the covariance\n",
    "Previously, we estimated the parameters and residual distributions for each `ticker` using data from `2018` to `2023` and saved these models to a [JLD2.jl file](https://github.com/JuliaIO/JLD2.jl). Load this file using the [load(...) function](https://juliaio.github.io/JLD2.jl/stable/#save-and-load-functions). \n",
    "* Store the model collection in the `sim_model_dictionary` variable, where the keys of the dictionary are the ticker symbols and the values are the parameterized [MySingleIndexModel instances](https://varnerlab.github.io/VLQuantitativeFinancePackage.jl/dev/portfolio/#VLQuantitativeFinancePackage.MySingleIndexModel) estimated previously."
   ]
  },
  {
   "cell_type": "code",
   "execution_count": null,
   "id": "a1afb1e5-8cab-4864-806e-d7908d5404fc",
   "metadata": {},
   "outputs": [],
   "source": [
    "sim_model_dictionary = load(joinpath(_PATH_TO_DATA, \"SIMs-SP500-01-03-18-to-12-29-23.jld2\")) |> x->x[\"sim\"]"
   ]
  },
  {
   "cell_type": "markdown",
   "id": "916d67c2-40c9-4cb3-830b-ca341aec1a42",
   "metadata": {},
   "source": [
    "Next, let's build a sorted list of firms that we have in cleaned up `sim_model_dictionary::Dict{String, MySingleIndexModel}` and save it in the `list_of_all_tickers::Array{String,1}` array:"
   ]
  },
  {
   "cell_type": "code",
   "execution_count": null,
   "id": "5c3b303c-7447-4cb9-a119-614d8245e12a",
   "metadata": {},
   "outputs": [],
   "source": [
    "list_of_all_tickers = keys(sim_model_dictionary) |> collect |> sort; # sorted list of all tickers\n",
    "number_of_tickers = length(list_of_all_tickers); # how many *total* tickers do we have?"
   ]
  },
  {
   "cell_type": "markdown",
   "id": "2bb4ec83-2339-4d04-bb1e-6884de5da0d9",
   "metadata": {},
   "source": [
    "### Constants\n",
    "Set constants that we'll use later. Please see the comment next to the constant value for a description of the constant, permissible values, etc."
   ]
  },
  {
   "cell_type": "code",
   "execution_count": null,
   "id": "81564a80-d764-4769-9061-7895af92be16",
   "metadata": {},
   "outputs": [],
   "source": [
    "σₘ = 0.1621; # implied volatility for SPY\n",
    "Rₘ = 0.06; # assumed expected excess return for SPY (historical)\n",
    "risk_free_rate = 0.0389; # hypothetical continuous compounded risk-free rate (units: 1/year)\n",
    "Δt = (1.0/252.0); # time step for 1-trading day (units: 1/year)\n",
    "my_total_budget = 1000.0; # investment budget\n",
    "ϵ = 0.05; # risk tolerance\n",
    "startdate = Date(2024,01,03); # We will start our portfolio at the close of this day"
   ]
  },
  {
   "cell_type": "markdown",
   "id": "8232113a-7fe9-4ead-a00c-fa4cd3f941ee",
   "metadata": {},
   "source": [
    "### Alternative investment\n",
    "In this study, we'll use `SPY` as a hypothetical alternative investment, i.e., we'll invest our budget $\\mathcal{B}$ in in `SPY` instead of our portfolio $\\mathcal{P}$. Toward this, let's compute the number of shares of `SPY` to purchase, which we store in the `n_spy::Float64` variable, and capture the close price of `SPY` in the `S_spy::Array{Float64,1}` array."
   ]
  },
  {
   "cell_type": "code",
   "execution_count": null,
   "id": "00d5694f-3ee2-4f03-a3bc-aeca9b19680a",
   "metadata": {},
   "outputs": [],
   "source": [
    "(n_spy, S_spy) = let\n",
    "    price_df = out_of_sample_dataset[\"SPY\"];\n",
    "    startprice = filter(:timestamp => x-> x >= startdate, price_df) |> x-> x[1,:close]\n",
    "    nᵢ = (my_total_budget)/startprice;\n",
    "    S = price_df[:,:close];\n",
    "    nᵢ,S\n",
    "end;"
   ]
  },
  {
   "cell_type": "markdown",
   "id": "e8af4186-807d-4622-9a07-d4ed27fc40f9",
   "metadata": {},
   "source": [
    "### Compute the expected excess returns using single index models\n",
    "Here, we compute the expected return for each ticker in the `list_of_all_tickers::Array{String,1}` array  using the single index models calculated previously using a `for-loop.` For iteration of the loop:\n",
    "* Get the `ticker` symbol from the `list_of_all_tickers` array, and pull out the corresponding single index model from the `sim_model_dictionary` dictionary. Then, pull out the $(\\alpha, \\beta)$ parameters from the `sim` model instance and compute the expected return $\\mathbb{E}(R_{i})$. Store the expected return in the `μ_sim::Array{Float64,1}` array"
   ]
  },
  {
   "cell_type": "code",
   "execution_count": null,
   "id": "efa779db-fb63-4318-ab4b-9214da9665d6",
   "metadata": {},
   "outputs": [],
   "source": [
    "μ_sim = Array{Float64,1}();\n",
    "for i ∈ eachindex(list_of_all_tickers)\n",
    "    sim = list_of_all_tickers[i] |> ticker -> sim_model_dictionary[ticker];   \n",
    "    αᵢ = sim.α\n",
    "    βᵢ = sim.β\n",
    "    (αᵢ+βᵢ*Rₘ) |> R̄ᵢ-> push!(μ_sim,R̄ᵢ); # evaluate the SIM for all the models in our collection\n",
    "end"
   ]
  },
  {
   "cell_type": "markdown",
   "id": "10c06339-06e2-4889-882c-e8206dfdbbe1",
   "metadata": {},
   "source": [
    "### Compute the covariance matrix using single index models\n",
    "Next, we build the covariance array using single index models. Substituting the single index model for the excess return of asset $i$ and $j$ into the covariance expression (and simplifying) gives:\n",
    "$$\n",
    "\\begin{equation*}\n",
    "\\text{cov}(R_{i}, R_{j}) = \\begin{cases}\n",
    "\\beta_{i}^{2}\\sigma_{m}^{2}+\\sigma_{\\epsilon_{i}}^{2} & i = j \\\\\n",
    "\\beta_{i}\\beta_{j}\\sigma_{m}^2 & i \\neq j\n",
    "\\end{cases}\n",
    "\\end{equation*}\n",
    "$$\n",
    "where $\\sigma_{m}^2$ denotes the variance of the excess return of the market, and $\\sigma_{\\epsilon_{i}}^{2}$ denotes the variance of the firm-specific error model (estimated when we constructed the single index models). To compute the risk $\\sigma_{m}$, which is the standard deviation of the return for the market portfolio, we use the [implied volatility of `SPY` options](https://marketchameleon.com/Overview/SPY/IV/). We save the single index model estimate of the covariance array in the `Σ_sim::Array{Float64,2}` variable:"
   ]
  },
  {
   "cell_type": "code",
   "execution_count": null,
   "id": "4c178b3d-84cd-4b4a-901c-51e78aad1f42",
   "metadata": {},
   "outputs": [],
   "source": [
    "Σ_sim = let\n",
    "    Σ_tmp = Array{Float64,2}(undef, number_of_tickers, number_of_tickers);\n",
    "    for i ∈ eachindex(list_of_all_tickers)\n",
    "        \n",
    "        outer_ticker = list_of_all_tickers[i]; # ticker on the rows \n",
    "        sim_outer = sim_model_dictionary[outer_ticker]; # get SIM model for row ticker\n",
    "        \n",
    "        for j ∈ eachindex(list_of_all_tickers)\n",
    "            \n",
    "            inner_ticker = list_of_all_tickers[j]; # ticker in the cols\n",
    "            sim_inner = sim_model_dictionary[inner_ticker]; # get SIM model of the col ticker\n",
    "            \n",
    "            if (i == j) # we have a diagonal element\n",
    "                βᵢ = sim_outer.β\n",
    "                ϵᵢ = sim_outer.ϵ\n",
    "                σ_ϵᵢ = params(ϵᵢ)[2];\n",
    "                Σ_tmp[i,j] = ((βᵢ)^2)*((σₘ)^2)+(σ_ϵᵢ)^2\n",
    "            else\n",
    "                βᵢ = sim_outer.β\n",
    "                βⱼ = sim_inner.β\n",
    "                Σ_tmp[i,j] = βᵢ*βⱼ*(σₘ)^2\n",
    "            end\n",
    "        end\n",
    "    end\n",
    "    Σ_sim  = Σ_tmp |> x-> x*Δt # annualize\n",
    "end;"
   ]
  },
  {
   "cell_type": "markdown",
   "id": "c01e991c-3dd1-4759-9442-56c3147d59a2",
   "metadata": {},
   "source": [
    "## Task 1: Compute Single Index Minimum Variance Portfolios\n",
    "In this task, we'll compute the efficient frontier and the initial allocation for an efficient portfolio for the asset tickers you select. To start, select $N\\geq{10}$ assets from our collection of assets from the entries in the `list_of_all_tickers::Array{String,1}` array for your portfolio.\n",
    "* __What tickers can you chose__? You can choose any ticker symbol for which we have a single index model instance and for which we have out-of-sample test data (the ticker symbols in the `out_of_sample_dataset::Dict{String, DataFrame}` are the keys in this dictionary.) "
   ]
  },
  {
   "cell_type": "code",
   "execution_count": null,
   "id": "d27e2c7b-9848-4096-88a3-32f0b4ba3088",
   "metadata": {},
   "outputs": [],
   "source": [
    "my_list_of_tickers = [\"NVDA\", \"AMD\", \"MU\", \"AAPL\", \"MSFT\", \"GS\", \"BAC\", \"JPM\", \"WFC\", \"MRK\", \"PFE\", \"JNJ\", \"TSLA\", \n",
    "    \"COST\", \"TGT\", \"K\"];"
   ]
  },
  {
   "cell_type": "markdown",
   "id": "08fd7039-be86-451c-8e13-e1f3c7e13cb9",
   "metadata": {},
   "source": [
    "#### Check: Do we have your tickers?\n",
    "Before getting too far, let's check that we have data for the ticker symbols you selected in the `my_list_of_tickers::Array{String,1}` array. First, we'll check that we have the corresponding single index model and then see if we have the out-of-sample data for each ticker."
   ]
  },
  {
   "cell_type": "code",
   "execution_count": null,
   "id": "96226595-8175-465d-8e71-e246fbfebf78",
   "metadata": {},
   "outputs": [],
   "source": [
    "for i ∈ eachindex(my_list_of_tickers)\n",
    "    ticker = my_list_of_tickers[i];\n",
    "\n",
    "    # check 1: do we have a SIM for this ticker?\n",
    "    if (haskey(sim_model_dictionary, ticker) == false)\n",
    "        println(\"Ooops! We don't have a SIM for ticker: $(ticker)\");\n",
    "        @assert false; # this will throw an AssertionError\n",
    "    end\n",
    "\n",
    "    # check 2: do we have the out-of-sample data?\n",
    "     if (haskey(out_of_sample_dataset, ticker) == false)\n",
    "        println(\"Ooops! We don't have out of sample data for ticker: $(ticker)\");\n",
    "        @assert false; # this will throw an AssertionError\n",
    "    end\n",
    "end"
   ]
  },
  {
   "cell_type": "markdown",
   "id": "ff789d6f-ab03-41b9-b8d5-c158972adffe",
   "metadata": {},
   "source": [
    "### Covariance, return, initial prices\n",
    "We'll now get the data required to solve the minimum variance portfolio problem. \n",
    "First, get the share price at the close of the market on `startdate::Date` for each asset in your portfolio. We'll store these values in the `Sₒ::Array{Float64,1}` array (and use them to calculate our initial allocation later):"
   ]
  },
  {
   "cell_type": "code",
   "execution_count": null,
   "id": "6e410d8c-8033-44bc-92ac-fa50d81f497f",
   "metadata": {},
   "outputs": [],
   "source": [
    "Sₒ = let\n",
    "    Sₒ = Array{Float64,1}()\n",
    "    for ticker ∈ my_list_of_tickers\n",
    "        price_df = out_of_sample_dataset[ticker];\n",
    "        startprice = filter(:timestamp => x-> x >= startdate, price_df) |> x-> x[1,:close]\n",
    "        push!(Sₒ,startprice)\n",
    "    end\n",
    "    Sₒ;\n",
    "end;"
   ]
  },
  {
   "cell_type": "markdown",
   "id": "6f6f0300-733c-4c71-9691-8e6ca75b6968",
   "metadata": {},
   "source": [
    "* `Unhide` the code block below to see how we make a table that shows the initial share prices (at market close) for each `ticker` $\\in$ `my_list_of_tickers` on the first day of hypothetical trading specified by `startdate::Date`"
   ]
  },
  {
   "cell_type": "code",
   "execution_count": null,
   "id": "f4eece1f-7a8f-4e3f-9bf9-af7058cadcd2",
   "metadata": {
    "jupyter": {
     "source_hidden": true
    }
   },
   "outputs": [],
   "source": [
    "let\n",
    "    df = DataFrame()\n",
    "    for ticker ∈ my_list_of_tickers\n",
    "        price_df = out_of_sample_dataset[ticker];\n",
    "        startprice = filter(:timestamp => x-> x >= startdate, price_df) |> x-> x[1,:close]\n",
    "        row_df = (\n",
    "            date = startdate,\n",
    "            ticker = ticker,\n",
    "            initial_share_price = startprice\n",
    "        );\n",
    "        push!(df, row_df);\n",
    "    end\n",
    "    pretty_table(df, tf=tf_simple)\n",
    "end"
   ]
  },
  {
   "cell_type": "markdown",
   "id": "e358b3ec-a01d-43bf-a8bb-7e275a4229d5",
   "metadata": {},
   "source": [
    "Next, we calculate the firm-specific expected return vector $\\hat{\\mu}$ and covariance matrix $\\hat{\\Sigma}$. We will store these in $\\hat{\\mu}::Array{Float64,1}$ and $\\hat{\\Sigma}::Array{Float64,2}$ variables. \n",
    "* We already computed these values for all tickers in our collection in the prerequisites; now, we need to grab only the data associated with your ticker collection specified in the `my_list_of_tickers::Array{String,1}`. We'll do this for you, so please do not edit this code block."
   ]
  },
  {
   "cell_type": "code",
   "execution_count": null,
   "id": "ebcde176-e836-464e-bd01-66d60b9b0ce9",
   "metadata": {},
   "outputs": [],
   "source": [
    "# --- DO NOT CHANGE THE CODE BELOW -------------------------------------------------------------------- #\n",
    "μ̂, Σ̂ = let\n",
    "\n",
    "    my_list_of_firm_ids = Array{Int64,1}();\n",
    "    for ticker ∈ my_list_of_tickers\n",
    "        findfirst(x->x==ticker, list_of_all_tickers) |> i -> push!(my_list_of_firm_ids, i);\n",
    "    end\n",
    "    my_number_of_selected_firms = length(my_list_of_firm_ids)\n",
    "\n",
    "    # Expected excess return\n",
    "    μ̂ = Array{Float64,1}();\n",
    "    for firm_index ∈ my_list_of_firm_ids\n",
    "        push!(μ̂, μ_sim[firm_index])\n",
    "    end\n",
    "    \n",
    "    # Covariance\n",
    "    Σ̂ = Array{Float64,2}(undef, my_number_of_selected_firms, my_number_of_selected_firms);\n",
    "    for i ∈ eachindex(my_list_of_firm_ids)\n",
    "        row_firm_index = my_list_of_firm_ids[i]\n",
    "        for j ∈ eachindex(my_list_of_firm_ids)\n",
    "            col_firm_index = my_list_of_firm_ids[j]\n",
    "            Σ̂[i,j] = Σ_sim[row_firm_index, col_firm_index]\n",
    "        end\n",
    "    end\n",
    "\n",
    "    μ̂, Σ̂\n",
    "end;\n",
    "# --- DO NOT CHANGE THE CODE ABOVE -------------------------------------------------------------------- #"
   ]
  },
  {
   "cell_type": "markdown",
   "id": "c66e3e86-79f4-4345-8f1e-31336cc96d7b",
   "metadata": {},
   "source": [
    "### Compute the efficient frontier\n",
    "Now, we can compute the single index model minimum variance efficient frontier, assuming only risky assets. We start by setting up the bounds and constants in the problem (see the comment next to value for a description of the constant, permissible values, etc)."
   ]
  },
  {
   "cell_type": "code",
   "execution_count": null,
   "id": "e88e59b5-6297-4000-b6e0-445fddc981d1",
   "metadata": {},
   "outputs": [],
   "source": [
    "N = length(my_list_of_tickers); # how many tickers did we select?\n",
    "wₒ = zeros(N); # initial guess for allocation\n",
    "wₒ[1] = 1.0; # everything in asset 1 (initially)\n",
    "bounds = zeros(N,2); # bounds are a N x 2 array, first col is the lower bound, second col is the upper bound\n",
    "bounds[:,2] .= 1.0; # set the upper bound to 1.0 for each ticker. The .= is a vector operator \n",
    "number_of_points = 100; # how many portfolios do we want to create? (this will be an upper bound, as some may be infeasible)"
   ]
  },
  {
   "cell_type": "markdown",
   "id": "7641dd9b-192c-4751-8491-f9816428d439",
   "metadata": {},
   "source": [
    "Next, create an instance of the [MyMarkowitzRiskyAssetOnlyPortfiolioChoiceProblem type](https://varnerlab.github.io/VLQuantitativeFinancePackage.jl/dev/portfolio/#VLQuantitativeFinancePackage.MyMarkowitzRiskyAssetOnlyPortfiolioChoiceProblem) using a custom [build(...) method](https://varnerlab.github.io/VLQuantitativeFinancePackage.jl/dev/portfolio/#VLQuantitativeFinancePackage.build-Tuple{Type{MyMarkowitzRiskyAssetOnlyPortfiolioChoiceProblem},%20NamedTuple}). Store this in the `problem_risk` variable. You'll need to pass your covariance array $\\hat{\\Sigma}$, the expected return array $\\hat{\\mu}$, along with bounds and an initial guess, to the [build(...) method](https://varnerlab.github.io/VLQuantitativeFinancePackage.jl/dev/portfolio/#VLQuantitativeFinancePackage.build-Tuple{Type{MyMarkowitzRiskyAssetOnlyPortfiolioChoiceProblem},%20NamedTuple}). "
   ]
  },
  {
   "cell_type": "code",
   "execution_count": null,
   "id": "80f535ce-755e-4522-b2e8-640778744cc7",
   "metadata": {},
   "outputs": [],
   "source": [
    "problem_risk = build(MyMarkowitzRiskyAssetOnlyPortfiolioChoiceProblem, (\n",
    "    Σ = Σ̂, # single index model cov matrix\n",
    "    μ = μ̂, # single index model expected return\n",
    "    bounds = bounds,\n",
    "    initial = wₒ,\n",
    "    R = 0.0 # why zero? We'll update this value later ...\n",
    "));"
   ]
  },
  {
   "cell_type": "markdown",
   "id": "6070dad6-1a4b-4c04-92fe-88aeb2550da4",
   "metadata": {},
   "source": [
    "Now, create an array with the minimum desired rewards (the calculation must achieve at least this much reward). In this case, assume we go from `0` to `10`$\\times{r_{f}}$ and take `number_of_points` steps.  We store these values in the `minimum_desired_reward_array::Array{Float64,1}` variable.\n",
    "* __What is this for?__: This array specifies the lower bound of our desired portfolio return. Thus, we are asking the QP solver to find an allocation that achieves _at least_ this desired level of return for the minimum risk. Second, this is an _excess return_ array, thus it `0` corresponds to the risk free rate."
   ]
  },
  {
   "cell_type": "code",
   "execution_count": null,
   "id": "0f75bcab-9fe3-4190-a5e6-9f7d999e2f14",
   "metadata": {},
   "outputs": [],
   "source": [
    "minimum_desired_reward_array = range(0.0, stop = 10*risk_free_rate, length = number_of_points) |> collect; # excess return from zero"
   ]
  },
  {
   "cell_type": "markdown",
   "id": "4f6a010b-be22-4e3e-aa79-77918e74dc9f",
   "metadata": {},
   "source": [
    "Finally, we iterate through the `minimum_desired_reward_array` and compute the minimum risk required to achieve the specified reward level [using a `for-loop.`](https://docs.julialang.org/en/v1/base/base/#for) For each pass through the loop, we:\n",
    "* Update the `problem_risk` variable with the minimum desired reward (set the `R` field). We then pass the updated `problem_risk` object to the [solve(...) method](https://varnerlab.github.io/VLQuantitativeFinancePackage.jl/dev/portfolio/#VLQuantitativeFinancePackage.solve-Tuple{MyMarkowitzRiskyAssetOnlyPortfiolioChoiceProblem}) (which initializes and solves the optimization problem). The solution returned from the [solve(...) method](https://varnerlab.github.io/VLQuantitativeFinancePackage.jl/dev/portfolio/#VLQuantitativeFinancePackage.solve-Tuple{MyMarkowitzRiskyAssetOnlyPortfiolioChoiceProblem}) is stored in the `solution` dictionary. \n",
    "* We check the `status` of the solution. If the `status` indicates an optimal solution was found, we store that solution in the `efficient_frontier` dictionary. In particular, we store the portfolio risk $\\sigma_{\\mathcal{P}}$ as the `key` and the portfolio's expected return as the `value` in the `efficient_frontier` dictionary.\n",
    "* __Why the [try-catch environment](https://docs.julialang.org/en/v1/base/base/#try)__? The [solve(...) method](https://varnerlab.github.io/VLQuantitativeFinancePackage.jl/dev/portfolio/#VLQuantitativeFinancePackage.solve-Tuple{MyMarkowitzRiskyAssetOnlyPortfiolioChoiceProblem}) has an [@assert statement](https://docs.julialang.org/en/v1/base/base/#Base.@assert) to check if the calculation is feasible. Thus, the solve method can [throw](https://docs.julialang.org/en/v1/base/base/#Core.throw) an [AssertionError](https://docs.julialang.org/en/v1/base/base/#Core.AssertionError) if the optimization problem fails to solve for some reason. To gracefully handle this case, we use a [try-catch construct](https://docs.julialang.org/en/v1/base/base/#try). See the [is_solved_and_feasible method from the JuMP package](https://jump.dev/JuMP.jl/stable/api/JuMP/#JuMP.is_solved_and_feasible) for more information."
   ]
  },
  {
   "cell_type": "code",
   "execution_count": null,
   "id": "69b57a69-9889-46fb-b76c-b3b4f15bf31c",
   "metadata": {},
   "outputs": [],
   "source": [
    "efficient_frontier = let\n",
    "    efficient_frontier = Dict{Float64,Float64}();\n",
    "    for i ∈ eachindex(minimum_desired_reward_array)\n",
    "        \n",
    "        # update the problem object -\n",
    "        problem_risk.R = minimum_desired_reward_array[i]; # update the lower bound on desired return\n",
    "    \n",
    "        try\n",
    "            # call to the solver \n",
    "            solution = solve(problem_risk)\n",
    "    \n",
    "            # check: did this converge?\n",
    "            status_flag = solution[\"status\"];    \n",
    "            if (status_flag == MathOptInterface.LOCALLY_SOLVED)\n",
    "                key = sqrt(solution[\"objective_value\"]);\n",
    "                efficient_frontier[key] = solution[\"reward\"];\n",
    "            end\n",
    "        catch err\n",
    "            # Uncomment to see which R's failed ...\n",
    "            # println(\"Failed: desired R = $(problem_risk.R). Infeasible - $(err)\");\n",
    "        end\n",
    "    end\n",
    "    efficient_frontier;\n",
    "end;"
   ]
  },
  {
   "cell_type": "markdown",
   "id": "25376f4b-91df-41ce-8cf3-72e949a1432a",
   "metadata": {},
   "source": [
    "### Visualize\n",
    "`Unhide` the code block below to see how we plotted the efficient frontier for your collection of risk assets. Depending upon your choice of tickers, the efficient frontier may have different shapes. Generally, it should look like a concave function with a positive relationship between risk and reward (__no free lunch__: to get a higher return, you need to assume higher risk)."
   ]
  },
  {
   "cell_type": "code",
   "execution_count": null,
   "id": "200c5398-356e-4321-858f-3415b193cf16",
   "metadata": {
    "jupyter": {
     "source_hidden": true
    }
   },
   "outputs": [],
   "source": [
    "let\n",
    "    plot(efficient_frontier, label=\"SIM MinVar\", lw=3, c=:deepskyblue1, \n",
    "        bg=\"gray95\", background_color_outside=\"white\", framestyle = :box, fg_legend = :transparent)\n",
    "    scatter!(efficient_frontier, label=\"\", c=:white, msc=:deepskyblue1, ms=3)\n",
    "    xlabel!(\"Portfolio Risk (sqrt)\", fontsize=18)\n",
    "    ylabel!(\"Portfolio Excess Growth (1/yr)\", fontsize=18)\n",
    "end"
   ]
  },
  {
   "cell_type": "code",
   "execution_count": null,
   "id": "82486458-7529-40fc-b9ef-4ca429502910",
   "metadata": {},
   "outputs": [],
   "source": [
    "i_see_the_efficient_frontier = true; # If you see the plot, then set the `i_see_the_efficient_frontier` variable to `true`."
   ]
  },
  {
   "cell_type": "markdown",
   "id": "d920e940-a380-46ff-9002-102ef412e162",
   "metadata": {},
   "source": [
    "### Build a test portfolio\n",
    "Now that we have the efficient frontier, we can select a portfolio to explore. To begin, specify a desired portfolio growth rate in the `desired_growth_rate` variable:"
   ]
  },
  {
   "cell_type": "code",
   "execution_count": null,
   "id": "604667fa-fe96-480b-ae3d-ef864728b490",
   "metadata": {},
   "outputs": [],
   "source": [
    "desired_growth_rate = 0.25; # select a desired *excess* return"
   ]
  },
  {
   "cell_type": "markdown",
   "id": "f55def8c-a931-47b7-b687-fbf79aed2562",
   "metadata": {},
   "source": [
    "Next, resolve the minimum variance problem for the single-index models, assuming the `desired_growth_rate` value you specified. Update the `problem_risk` instance with your desired return level by setting the `R` field:"
   ]
  },
  {
   "cell_type": "code",
   "execution_count": null,
   "id": "fd74debe-de93-4eb7-b17c-4a04beac244f",
   "metadata": {},
   "outputs": [],
   "source": [
    "problem_risk.R = desired_growth_rate; # update the problem with your desired level of retirn"
   ]
  },
  {
   "cell_type": "markdown",
   "id": "78840c69-4dd4-4e2d-8939-870148aee81e",
   "metadata": {},
   "source": [
    "Resolve the minimum-variance allocation problem for the updated problem instance. The solution is returned in the `solution_min_var::Dict{String, Any}` dictionary. The return is stored in the `reward` field, while the portfolio weight vector $\\omega$ is stored in the `argmax` field (this is a `N`$\\times$ `1` array of $\\omega_{i}$ values):"
   ]
  },
  {
   "cell_type": "code",
   "execution_count": null,
   "id": "a7e0e79a-6033-445b-b57c-deaff564a8c2",
   "metadata": {},
   "outputs": [],
   "source": [
    "solution_min_var = nothing;\n",
    "try\n",
    "    solution_min_var = solve(problem_risk);\n",
    "catch err\n",
    "    # uncoment below to see error message\n",
    "    println(\"What the what? Something happened: $(err)\");\n",
    "end"
   ]
  },
  {
   "cell_type": "markdown",
   "id": "3f729fdb-eb0a-4883-9480-8d960ece04e6",
   "metadata": {},
   "source": [
    "Finally, now that we have selected a portfolio, let's compute the number of shares of each asset we need to purchase. Save these values in the `MINVAR_Nₒ::Array{Float64,1}` variable. "
   ]
  },
  {
   "cell_type": "code",
   "execution_count": null,
   "id": "8805f824-1974-4562-9453-289e463919a1",
   "metadata": {},
   "outputs": [],
   "source": [
    "MINVAR_Nₒ = let\n",
    "    N = length(my_list_of_tickers);\n",
    "    Nₒ = Array{Float64,1}()\n",
    "    ω = solution_min_var[\"argmax\"];\n",
    "    for i ∈ eachindex(my_list_of_tickers)\n",
    "        \n",
    "        wᵢ = abs(ω[i]); # min var allocation\n",
    "        nᵢ = (wᵢ*my_total_budget)/Sₒ[i];\n",
    "        push!(Nₒ,nᵢ)\n",
    "    end\n",
    "    Nₒ\n",
    "end;"
   ]
  },
  {
   "cell_type": "markdown",
   "id": "28fbed6a-c6f0-4de4-9125-74600a7cab67",
   "metadata": {},
   "source": [
    "`Unhide` the code block below to see how we made an initial allocation table. \n",
    "* The column `ticker` holds the firms in our portfolio, the column `w` holds the portfolio weight for that asset, the column `n` is the number of shares that we purchased near market close on `startdate::Date,` the `initial_share_price` column is the price per share of each ticker, and the `value` column holds the cash (liquidation) value of each position at market close on `startdate::Date.`"
   ]
  },
  {
   "cell_type": "code",
   "execution_count": null,
   "id": "790dd14e-6ad1-4df1-94bc-28e6c76e012d",
   "metadata": {
    "jupyter": {
     "source_hidden": true
    }
   },
   "outputs": [],
   "source": [
    "let\n",
    "    ω = solution_min_var[\"argmax\"];\n",
    "    df = DataFrame();\n",
    "    for i ∈ eachindex(my_list_of_tickers)\n",
    "        ticker = my_list_of_tickers[i]; # get the ticker\n",
    "        value = MINVAR_Nₒ[i]*Sₒ[i];\n",
    "\n",
    "        row_df = (\n",
    "            ticker = ticker,\n",
    "            w = abs(ω[i]), # small negatives\n",
    "            n = MINVAR_Nₒ[i],\n",
    "            initial_share_price = Sₒ[i],\n",
    "            value = value\n",
    "        )\n",
    "        push!(df, row_df);\n",
    "    end\n",
    "\n",
    "    footer = (\n",
    "        ticker = \"total\",\n",
    "        w = sum(ω),\n",
    "        n = sum(MINVAR_Nₒ),\n",
    "        initial_share_price = 0,\n",
    "        value = sum(MINVAR_Nₒ.*Sₒ)\n",
    "    )\n",
    "    push!(df, footer)\n",
    "    \n",
    "    pretty_table(df, tf=tf_simple)   \n",
    "end"
   ]
  },
  {
   "cell_type": "markdown",
   "id": "0530ca8a-b92b-4b9d-93fc-6feb2a22544f",
   "metadata": {},
   "source": [
    "### Simulate Minimum Variance Portfolio Wealth\n",
    "Simulate the performance of the minimum variance portfolio starting from `startdate::Date` and ending on the last day of data available in the out-of-sample dataset. Store the wealth values in the `wealth_array_minimum_variance::Array{Float64,2}` array.\n",
    "* __What's the story with the `let` block__? A [let block](https://docs.julialang.org/en/v1/manual/variables-and-scoping/#Let-Blocks) creates a new hard scope and introduces new variable bindings each time they run. Thus, they act like a private scratch space, where data comes in (is captured by the block), but only what we want to be exposed comes out. In this case, we want the block to export the wealth, allocation, and beta arrays.\n",
    "* The `wealth_array_minimum_variance::Array{Float64,2}` array holds the wealth (liquidation value) of each asset $a\\in\\mathcal{P}$, and the total value in the last column. Each row of the `wealth_array_minimum_variance::Array{Float64,2}` array holds a trading period.\n",
    "* To get the value of the close prices for each trading day i, we use the market(...) function."
   ]
  },
  {
   "cell_type": "code",
   "execution_count": null,
   "id": "d09ba3e4-f29e-46eb-b005-be3af7ec49d3",
   "metadata": {
    "jupyter": {
     "source_hidden": true
    }
   },
   "outputs": [],
   "source": [
    "wealth_array_minimum_variance = let\n",
    "\n",
    "    N = length(my_list_of_tickers);\n",
    "    wealth_array = Array{Float64,2}(undef, number_of_trading_days - 1, N+1); # last col is the total\n",
    "    for i = 1:(number_of_trading_days - 1)\n",
    "\n",
    "        # get the close price array -\n",
    "        close_price_array = market(out_of_sample_dataset, my_list_of_tickers, i); # gets the close price for today\n",
    "        \n",
    "        # compute the wealth array -\n",
    "        for j ∈ eachindex(my_list_of_tickers)\n",
    "           wealth_array[i,j] = MINVAR_Nₒ[j]*close_price_array[j];\n",
    "        end\n",
    "        wealth_array[i,end] = sum(wealth_array[i,1:end-1]);        \n",
    "    end\n",
    "    wealth_array\n",
    "end;"
   ]
  },
  {
   "cell_type": "markdown",
   "id": "0990f539-3202-45a7-a467-e3410e9ece54",
   "metadata": {},
   "source": [
    "## Task 2: Compute Equally Weighted Portfolio\n",
    "In this task, we'll construct an equally weighted portfolio of the assets that you specified in the `my_list_of_tickers::Array{String,1}` array. The initial share prices were computed above, so let's start the equally weighted case by computing the number of shares we purchase to initiate the portfolio. We store these values in the `EQW_Nₒ::Array{Float64,1}` variable. The initial number of shares is given by:\n",
    "$$\n",
    "n_{a} = \\frac{1}{N}\\cdot\\left(\\frac{\\mathcal{B}}{S_{\\circ,a}}\\right)\\quad\\forall{a}\\in\\mathcal{P}\n",
    "$$\n",
    "where $\\mathcal{B}$ is the inital investment budget, $S_{\\circ,a}$ is the initial share price for asset $a$, and $\\omega_{a}$ denotes the allocation fraction for asset $a$. In this case, we have an equal partition, so $\\omega_{a} = 1/N$ where $N$ is the number of assets in the portfolio. "
   ]
  },
  {
   "cell_type": "code",
   "execution_count": null,
   "id": "d102ec7e-2cbf-4d35-b371-57aa486a3e9d",
   "metadata": {},
   "outputs": [],
   "source": [
    "EQW_Nₒ = let\n",
    "    N = length(my_list_of_tickers);\n",
    "    Nₒ = Array{Float64,1}()\n",
    "    for i ∈ eachindex(my_list_of_tickers)\n",
    "        \n",
    "        wᵢ = 1/N; # equal weight allocation\n",
    "        nᵢ = (wᵢ*my_total_budget)/Sₒ[i];\n",
    "        push!(Nₒ,nᵢ)\n",
    "    end\n",
    "    Nₒ\n",
    "end;"
   ]
  },
  {
   "cell_type": "markdown",
   "id": "75f079f9-6b9a-4779-81b9-446c01856309",
   "metadata": {},
   "source": [
    "`Unhide` the code block below to see how we made an initial allocation table for the equally weighted portfolio.\n",
    "* The column `ticker` holds the firms in our portfolio, the column `w` holds the portfolio weight for that asset, the column `n` is the number of shares that we purchased near market close on `startdate::Date,` the `initial_share_price` column is the price per share of each ticker, and the `value` column holds the cash (liquidation) value of each position at market close on `startdate::Date.`"
   ]
  },
  {
   "cell_type": "code",
   "execution_count": null,
   "id": "5cc7ac11-90f7-4b2b-ae92-9b81f7356e14",
   "metadata": {
    "jupyter": {
     "source_hidden": true
    }
   },
   "outputs": [],
   "source": [
    "let\n",
    "    df = DataFrame();\n",
    "    N = length(my_list_of_tickers);\n",
    "    w = (1/N)*ones(N);\n",
    "\n",
    "    for i ∈ eachindex(my_list_of_tickers)\n",
    "        ticker = my_list_of_tickers[i]; # get the ticker\n",
    "        value = EQW_Nₒ[i]*Sₒ[i];\n",
    "\n",
    "        row_df = (\n",
    "            ticker = ticker,\n",
    "            w = w[i],\n",
    "            n = EQW_Nₒ[i],\n",
    "            initial_share_price = Sₒ[i],\n",
    "            value = value\n",
    "        )\n",
    "        push!(df, row_df);\n",
    "    end\n",
    "\n",
    "    footer = (\n",
    "        ticker = \"total\",\n",
    "        w = sum(w),\n",
    "        n = sum(EQW_Nₒ),\n",
    "        initial_share_price = 0,\n",
    "        value = sum(EQW_Nₒ.*Sₒ)\n",
    "    )\n",
    "    push!(df, footer)\n",
    "    \n",
    "    pretty_table(df, tf=tf_simple)   \n",
    "end"
   ]
  },
  {
   "cell_type": "markdown",
   "id": "de86275c-1f25-48d3-94d1-72947d5e573a",
   "metadata": {},
   "source": [
    "### Simulation Equally Weighted Portfolio\n",
    "Simulate the performance of the equally weighted portfolio starting from `startdate::Date` and ending on the last day of data available in the out-of-sample dataset. Store the wealth values in the `wealth_array_equally_weighted::Array{Float64,2}` array.\n",
    "* __What's the story with the `let` block__? A [let block](https://docs.julialang.org/en/v1/manual/variables-and-scoping/#Let-Blocks) creates a new hard scope and introduces new variable bindings each time they run. Thus, they act like a private scratch space, where data comes in (is captured by the block), but only what we want to be exposed comes out. In this case, we want the block to export the wealth, allocation, and beta arrays.\n",
    "* The `wealth_array_equally_weighted::Array{Float64,2}` array holds the wealth (liquidation value) of each asset $a\\in\\mathcal{P}$, and the total value in the last column. Each row of the `wealth_array_equally_weighted::Array{Float64,2}` array holds a trading period.\n",
    "* To get the value of the close prices for each trading day `i`, we use [the `market(...)` function](src/Compute.jl)."
   ]
  },
  {
   "cell_type": "code",
   "execution_count": null,
   "id": "c63f7a32-d583-4088-844e-b9ac5d490558",
   "metadata": {},
   "outputs": [],
   "source": [
    "wealth_array_equally_weighted = let\n",
    "\n",
    "    N = length(my_list_of_tickers);\n",
    "    wealth_array = Array{Float64,2}(undef, number_of_trading_days - 1, N+1); # last col is the total\n",
    "    for i = 1:(number_of_trading_days - 1)\n",
    "\n",
    "        # get the close price array -\n",
    "        close_price_array = market(out_of_sample_dataset, my_list_of_tickers, i); # gets the close price for today\n",
    "        \n",
    "        # compute the wealth array -\n",
    "        for j ∈ eachindex(my_list_of_tickers)\n",
    "           wealth_array[i,j] = EQW_Nₒ[j]*close_price_array[j];\n",
    "        end\n",
    "        wealth_array[i,end] = sum(wealth_array[i,1:end-1]);        \n",
    "    end\n",
    "    wealth_array\n",
    "end;"
   ]
  },
  {
   "cell_type": "markdown",
   "id": "c779822e-0d75-4710-9a15-60632f17c7f2",
   "metadata": {},
   "source": [
    "## Task 3: Which approach should we choose?\n",
    "In this task, we'll compare the three investment approaches and determine which performs better. In particular, we'll plot the wealth array for the minimum variance portfolio, the equally weighted portfolio, and the [SP500 `SPY` ETF](https://finance.yahoo.com/quote/SPY/) for `2024`."
   ]
  },
  {
   "cell_type": "markdown",
   "id": "e7563834-945e-449b-aa69-a1ba893b5a60",
   "metadata": {},
   "source": [
    "### Visualize your wealth array\n",
    "`Unhide` the code block below to see how we plotted the wealth arrays for the three approaches. Depending upon your choice of assets, you could over- or under-perform [the `SPY` ETF](https://finance.yahoo.com/quote/SPY/)."
   ]
  },
  {
   "cell_type": "code",
   "execution_count": null,
   "id": "796009f7-2a48-4050-9f8d-803d0b0138c0",
   "metadata": {},
   "outputs": [],
   "source": [
    "let\n",
    "    plot(wealth_array_minimum_variance[:,end], lw=2, c=:deepskyblue1, label=\"Minimum Variance\")\n",
    "    plot!(wealth_array_equally_weighted[:,end], lw=2, c=:navy, label=\"Equally Weighted\")\n",
    "    plot!(n_spy*S_spy, c=:red, lw=2, label=\"SPY\")\n",
    "    xlabel!(\"Trading Day Index 2024 (AU)\", fontsize=18);\n",
    "    ylabel!(\"Total Wealth (USD)\", fontsize=18)\n",
    "end"
   ]
  },
  {
   "cell_type": "code",
   "execution_count": null,
   "id": "546d744b-8cf3-4d97-9dc4-390e73959048",
   "metadata": {},
   "outputs": [],
   "source": [
    "i_see_the_wealth_plot = true; # If you see the wealth plot, then set the `i_see_the_wealth_plot` variable to `true`."
   ]
  },
  {
   "cell_type": "markdown",
   "id": "80cd0ec4-ee5e-4762-84e4-3c8bb84f362f",
   "metadata": {},
   "source": [
    "### Winner?\n",
    "Let's rank the approaches based on the final wealth value (this is not the only way to do this, but it's the simplest):"
   ]
  },
  {
   "cell_type": "code",
   "execution_count": null,
   "id": "83d1686e-6233-4ca5-b931-588f3c8bf863",
   "metadata": {},
   "outputs": [],
   "source": [
    "labels = [\"SPY\", \"MINVAR\", \"EQW\"]; # create a label array\n",
    "W = [(n_spy*S_spy)[end], wealth_array_minimum_variance[end], wealth_array_equally_weighted[end]];\n",
    "sortperm(W, rev=true) |> i -> labels[i]"
   ]
  },
  {
   "cell_type": "markdown",
   "id": "63eddcdd-ba0a-47bf-aa3f-cb781232fa41",
   "metadata": {},
   "source": [
    "## Tests\n",
    "In the code block below, we check some values in your notebook and give you feedback on which items are correct or different. `Unhide` the code block below (if you are curious) about how we implemented the tests and what we are testing."
   ]
  },
  {
   "cell_type": "code",
   "execution_count": null,
   "id": "5f9cb95f-5547-41a0-80c3-e87349697bb0",
   "metadata": {},
   "outputs": [],
   "source": [
    "let\n",
    "\n",
    "    @testset verbose = true \"CHEME 5660 problem set 4 test suite\" begin\n",
    "\n",
    "        @testset \"Task 1: Minimum Variance Portfolio Tests\" begin\n",
    "            @test length(my_list_of_tickers) ≥ 10\n",
    "            @test typeof(problem_risk) == MyMarkowitzRiskyAssetOnlyPortfiolioChoiceProblem\n",
    "            @test isempty(efficient_frontier) == false\n",
    "            @test solution_min_var != nothing\n",
    "            @test isempty(wealth_array_minimum_variance) == false\n",
    "            @test i_see_the_efficient_frontier == true\n",
    "        end\n",
    "\n",
    "        @testset \"Task 2: Equally Weighted Portfolio Tests\" begin\n",
    "            @test isempty(EQW_Nₒ) == false\n",
    "            @test isempty(wealth_array_equally_weighted) == false\n",
    "        end\n",
    "\n",
    "        @testset \"Task 3: Wealth Tests\" begin\n",
    "            @test i_see_the_wealth_plot == true;\n",
    "        end\n",
    "    end\n",
    "end;"
   ]
  },
  {
   "cell_type": "markdown",
   "id": "366b5cce-042d-45b8-b5ea-72ccbfd59102",
   "metadata": {},
   "source": [
    "## Disclaimer and Risks\n",
    "__This content is offered solely for training and informational purposes__. No offer or solicitation to buy or sell securities or derivative products or any investment or trading advice or strategy is made, given, or endorsed by the teaching team. \n",
    "\n",
    "__Trading involves risk__. Carefully review your financial situation before investing in securities, futures contracts, options, or commodity interests. Past performance, whether actual or indicated by historical tests of strategies, is no guarantee of future performance or success. Trading is generally inappropriate for someone with limited resources, investment or trading experience, or a low-risk tolerance.  Only risk capital that is not required for living expenses.\n",
    "\n",
    "__You are fully responsible for any investment or trading decisions you make__. You should decide solely based on your financial circumstances, investment or trading objectives, risk tolerance, and liquidity needs."
   ]
  }
 ],
 "metadata": {
  "kernelspec": {
   "display_name": "Julia 1.11.1",
   "language": "julia",
   "name": "julia-1.11"
  },
  "language_info": {
   "file_extension": ".jl",
   "mimetype": "application/julia",
   "name": "julia",
   "version": "1.11.1"
  }
 },
 "nbformat": 4,
 "nbformat_minor": 5
}
