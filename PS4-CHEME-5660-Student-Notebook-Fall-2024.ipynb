{
 "cells": [
  {
   "cell_type": "markdown",
   "id": "233633a8-8ba8-441b-9d9e-03232905f34e",
   "metadata": {},
   "source": [
    "# Problem Set 4 (PS4): Comparison of Portfolio Allocation Approaches\n",
    "In this problem set, students will construct a minimum variance portfolio and compare the performance of that portfolio with an equally weighted alternative and the [SP500 Index Fund `SPY`](https://finance.yahoo.com/quote/SPY/). This will be an out-of-sample `2024` comparison based on [single index models](https://en.wikipedia.org/wiki/Single-index_model) estimated using data from `2018` to `2023`.\n",
    "\n",
    "### Learning objectives\n",
    "* __Prerequisites__: Load and clean the testing dataset. In this section, we load the [single index models](https://en.wikipedia.org/wiki/Single-index_model) we estimated previously, load the out-of-sample dataset, and set constants.\n",
    "* __Task 1__: Compute Single Index Minimum Variance Portfolios. In this task, we'll compute the efficient frontier and the initial allocation for an efficient portfolio for the asset tickers you select.\n",
    "* __Task 2__: Compute Equally Weighted Portfolio. In this task, we'll construct an equally weighted portfolio of your specified assets.\n",
    "* __Task 3__: Task 3: Which approach should we choose? In this task, we'll compare the three investment approaches and determine which performs better."
   ]
  },
  {
   "cell_type": "markdown",
   "id": "ba7c790e-c766-46ae-9722-fb577f9bb751",
   "metadata": {},
   "source": [
    "## Setup\n",
    "We set up the computational environment by including [the `Include.jl` file](Include.jl). The [`Include.jl` file](Include.jl) loads external packages, various functions we will use in the exercise, and custom types to model the components of our problem.\n",
    "* See the [Julia programming language documentation](https://docs.julialang.org/en/v1/) and the [VLQuantitativeFinancePackage.jl documentation](https://github.com/varnerlab/VLQuantitativeFinancePackage.jl) for additional information on functions and types used in this material. "
   ]
  },
  {
   "cell_type": "code",
   "execution_count": 3,
   "id": "87aa06a7-c79d-4338-9542-d4f93fc84b59",
   "metadata": {},
   "outputs": [],
   "source": [
    "include(\"Include.jl\");"
   ]
  },
  {
   "cell_type": "markdown",
   "id": "f9b79d08-bf8a-4f4b-9f98-48be89c20ed9",
   "metadata": {
    "jp-MarkdownHeadingCollapsed": true
   },
   "source": [
    "## Prerequisites: Load and clean the testing dataset\n",
    "In this section, we load the [single index models](https://en.wikipedia.org/wiki/Single-index_model) we estimated previously, load the out-of-sample dataset, and set constants. \n",
    "\n",
    "### Testing data\n",
    "We gathered a daily open-high-low-close `dataset` for each firm in the [S&P500](https://en.wikipedia.org/wiki/S%26P_500) from `01-03-2024` until `10-25-24` close, along with data for a few exchange-traded funds and volatility products during that time. We load the `prediction_dataset` by calling the `MyOutOfSampleMarketDataSet()` function:"
   ]
  },
  {
   "cell_type": "code",
   "execution_count": 5,
   "id": "b0f38545-a09b-462b-a755-c742c8da058c",
   "metadata": {},
   "outputs": [
    {
     "data": {
      "text/plain": [
       "Dict{String, DataFrame} with 489 entries:\n",
       "  \"NI\"   => \u001b[1m206×8 DataFrame\u001b[0m\u001b[0m…\n",
       "  \"EMR\"  => \u001b[1m206×8 DataFrame\u001b[0m\u001b[0m…\n",
       "  \"CTAS\" => \u001b[1m206×8 DataFrame\u001b[0m\u001b[0m…\n",
       "  \"HSIC\" => \u001b[1m206×8 DataFrame\u001b[0m\u001b[0m…\n",
       "  \"KIM\"  => \u001b[1m206×8 DataFrame\u001b[0m\u001b[0m…\n",
       "  \"PLD\"  => \u001b[1m206×8 DataFrame\u001b[0m\u001b[0m…\n",
       "  \"IEX\"  => \u001b[1m206×8 DataFrame\u001b[0m\u001b[0m…\n",
       "  \"BAC\"  => \u001b[1m206×8 DataFrame\u001b[0m\u001b[0m…\n",
       "  \"CBOE\" => \u001b[1m206×8 DataFrame\u001b[0m\u001b[0m…\n",
       "  \"EXR\"  => \u001b[1m206×8 DataFrame\u001b[0m\u001b[0m…\n",
       "  \"NCLH\" => \u001b[1m206×8 DataFrame\u001b[0m\u001b[0m…\n",
       "  \"CVS\"  => \u001b[1m206×8 DataFrame\u001b[0m\u001b[0m…\n",
       "  \"DRI\"  => \u001b[1m206×8 DataFrame\u001b[0m\u001b[0m…\n",
       "  \"DTE\"  => \u001b[1m206×8 DataFrame\u001b[0m\u001b[0m…\n",
       "  \"ZION\" => \u001b[1m206×8 DataFrame\u001b[0m\u001b[0m…\n",
       "  \"AVY\"  => \u001b[1m206×8 DataFrame\u001b[0m\u001b[0m…\n",
       "  \"EW\"   => \u001b[1m206×8 DataFrame\u001b[0m\u001b[0m…\n",
       "  \"EA\"   => \u001b[1m206×8 DataFrame\u001b[0m\u001b[0m…\n",
       "  \"NWSA\" => \u001b[1m206×8 DataFrame\u001b[0m\u001b[0m…\n",
       "  \"BBWI\" => \u001b[1m206×8 DataFrame\u001b[0m\u001b[0m…\n",
       "  \"CAG\"  => \u001b[1m206×8 DataFrame\u001b[0m\u001b[0m…\n",
       "  \"GPC\"  => \u001b[1m206×8 DataFrame\u001b[0m\u001b[0m…\n",
       "  \"FCX\"  => \u001b[1m206×8 DataFrame\u001b[0m\u001b[0m…\n",
       "  \"GILD\" => \u001b[1m206×8 DataFrame\u001b[0m\u001b[0m…\n",
       "  \"INFO\" => \u001b[1m12×8 DataFrame\u001b[0m\u001b[0m…\n",
       "  ⋮      => ⋮"
      ]
     },
     "execution_count": 5,
     "metadata": {},
     "output_type": "execute_result"
    }
   ],
   "source": [
    "out_of_sample_dataset = MyOutOfSampleMarketDataSet() |> x-> x[\"dataset\"]"
   ]
  },
  {
   "cell_type": "markdown",
   "id": "6fad1196-36a5-4495-aa78-380193b41501",
   "metadata": {},
   "source": [
    "Now, let's get the number of trading days of data that we have to experiment with. "
   ]
  },
  {
   "cell_type": "code",
   "execution_count": 7,
   "id": "7c344972-f3ea-4335-a8ef-f8788152354b",
   "metadata": {},
   "outputs": [],
   "source": [
    "number_of_trading_days = out_of_sample_dataset[\"AAPL\"] |> nrow; # max number of days, you can reset for shorter durations"
   ]
  },
  {
   "cell_type": "markdown",
   "id": "ca605922-7ef3-4d34-b283-a7a2bddeedd7",
   "metadata": {},
   "source": [
    "### Load single index models and compute the covariance\n",
    "Previously, we estimated the parameters and residual distributions for each `ticker` using data from `2018` to `2023` and saved these models to a [JLD2.jl file](https://github.com/JuliaIO/JLD2.jl). Load this file using the [load(...) function](https://juliaio.github.io/JLD2.jl/stable/#save-and-load-functions). \n",
    "* Store the model collection in the `sim_model_dictionary` variable, where the keys of the dictionary are the ticker symbols and the values are the parameterized [MySingleIndexModel instances](https://varnerlab.github.io/VLQuantitativeFinancePackage.jl/dev/portfolio/#VLQuantitativeFinancePackage.MySingleIndexModel) estimated previously."
   ]
  },
  {
   "cell_type": "code",
   "execution_count": 9,
   "id": "a1afb1e5-8cab-4864-806e-d7908d5404fc",
   "metadata": {},
   "outputs": [
    {
     "data": {
      "text/plain": [
       "Dict{String, MySingleIndexModel} with 460 entries:\n",
       "  \"NI\"   => MySingleIndexModel(-0.0671224, 0.652999, 0.0389, Normal{Float64}(μ=…\n",
       "  \"EMR\"  => MySingleIndexModel(-0.0549877, 1.23526, 0.0389, Normal{Float64}(μ=-…\n",
       "  \"CTAS\" => MySingleIndexModel(0.119417, 1.17936, 0.0389, Normal{Float64}(μ=-6.…\n",
       "  \"HSIC\" => MySingleIndexModel(-0.0811194, 0.913675, 0.0389, Normal{Float64}(μ=…\n",
       "  \"KIM\"  => MySingleIndexModel(-0.0818621, 1.28859, 0.0389, Normal{Float64}(μ=-…\n",
       "  \"PLD\"  => MySingleIndexModel(0.0273092, 1.02836, 0.0389, Normal{Float64}(μ=1.…\n",
       "  \"IEX\"  => MySingleIndexModel(-0.00940007, 0.963259, 0.0389, Normal{Float64}(μ…\n",
       "  \"BAC\"  => MySingleIndexModel(-0.0922207, 1.32778, 0.0389, Normal{Float64}(μ=-…\n",
       "  \"CBOE\" => MySingleIndexModel(-0.00982405, 0.588498, 0.0389, Normal{Float64}(μ…\n",
       "  \"EXR\"  => MySingleIndexModel(0.0252878, 0.725388, 0.0389, Normal{Float64}(μ=3…\n",
       "  \"NCLH\" => MySingleIndexModel(-0.336719, 2.32891, 0.0389, Normal{Float64}(μ=1.…\n",
       "  \"CVS\"  => MySingleIndexModel(-0.0703279, 0.78292, 0.0389, Normal{Float64}(μ=-…\n",
       "  \"DRI\"  => MySingleIndexModel(-0.0286856, 1.36306, 0.0389, Normal{Float64}(μ=8…\n",
       "  \"DTE\"  => MySingleIndexModel(-0.0784382, 0.769165, 0.0389, Normal{Float64}(μ=…\n",
       "  \"ZION\" => MySingleIndexModel(-0.138024, 1.36377, 0.0389, Normal{Float64}(μ=9.…\n",
       "  \"AVY\"  => MySingleIndexModel(-0.0102924, 1.16058, 0.0389, Normal{Float64}(μ=-…\n",
       "  \"EW\"   => MySingleIndexModel(0.0158413, 1.11274, 0.0389, Normal{Float64}(μ=-1…\n",
       "  \"EA\"   => MySingleIndexModel(-0.0374669, 0.629636, 0.0389, Normal{Float64}(μ=…\n",
       "  \"NWSA\" => MySingleIndexModel(-0.0347286, 1.12238, 0.0389, Normal{Float64}(μ=1…\n",
       "  \"CAG\"  => MySingleIndexModel(-0.10775, 0.437623, 0.0389, Normal{Float64}(μ=-7…\n",
       "  \"GILD\" => MySingleIndexModel(-0.0535678, 0.516018, 0.0389, Normal{Float64}(μ=…\n",
       "  \"FCX\"  => MySingleIndexModel(-0.00807345, 1.80621, 0.0389, Normal{Float64}(μ=…\n",
       "  \"GPC\"  => MySingleIndexModel(-0.0389315, 1.06584, 0.0389, Normal{Float64}(μ=3…\n",
       "  \"UNP\"  => MySingleIndexModel(0.00241017, 1.03174, 0.0389, Normal{Float64}(μ=4…\n",
       "  \"CDW\"  => MySingleIndexModel(0.0876354, 1.21706, 0.0389, Normal{Float64}(μ=1.…\n",
       "  ⋮      => ⋮"
      ]
     },
     "execution_count": 9,
     "metadata": {},
     "output_type": "execute_result"
    }
   ],
   "source": [
    "sim_model_dictionary = load(joinpath(_PATH_TO_DATA, \"SIMs-SP500-01-03-18-to-12-29-23.jld2\")) |> x->x[\"sim\"]"
   ]
  },
  {
   "cell_type": "markdown",
   "id": "916d67c2-40c9-4cb3-830b-ca341aec1a42",
   "metadata": {},
   "source": [
    "Next, let's build a sorted list of firms that we have in cleaned up `sim_model_dictionary::Dict{String, MySingleIndexModel}` and save it in the `list_of_all_tickers::Array{String,1}` array:"
   ]
  },
  {
   "cell_type": "code",
   "execution_count": 11,
   "id": "5c3b303c-7447-4cb9-a119-614d8245e12a",
   "metadata": {},
   "outputs": [],
   "source": [
    "list_of_all_tickers = keys(sim_model_dictionary) |> collect |> sort; # sorted list of all tickers\n",
    "number_of_tickers = length(list_of_all_tickers); # how many *total* tickers do we have?"
   ]
  },
  {
   "cell_type": "markdown",
   "id": "2bb4ec83-2339-4d04-bb1e-6884de5da0d9",
   "metadata": {},
   "source": [
    "### Constants\n",
    "Set constants that we'll use later. Please see the comment next to the constant value for a description of the constant, permissible values, etc."
   ]
  },
  {
   "cell_type": "code",
   "execution_count": 13,
   "id": "81564a80-d764-4769-9061-7895af92be16",
   "metadata": {},
   "outputs": [],
   "source": [
    "σₘ = 0.1621; # implied volatility for SPY\n",
    "Rₘ = 0.06; # assumed expected excess return for SPY (historical)\n",
    "risk_free_rate = 0.0389; # hypothetical continuous compounded risk-free rate (units: 1/year)\n",
    "Δt = (1.0/252.0); # time step for 1-trading day (units: 1/year)\n",
    "my_total_budget = 1000.0; # investment budget\n",
    "ϵ = 0.05; # risk tolerance\n",
    "startdate = Date(2024,01,03); # We will start our portfolio at the close of this day"
   ]
  },
  {
   "cell_type": "markdown",
   "id": "8232113a-7fe9-4ead-a00c-fa4cd3f941ee",
   "metadata": {},
   "source": [
    "### Alternative investment\n",
    "In this study, we'll use `SPY` as a hypothetical alternative investment, i.e., we'll invest our budget $\\mathcal{B}$ in in `SPY` instead of our portfolio $\\mathcal{P}$. Toward this, let's compute the number of shares of `SPY` to purchase, which we store in the `n_spy::Float64` variable, and capture the close price of `SPY` in the `S_spy::Array{Float64,1}` array."
   ]
  },
  {
   "cell_type": "code",
   "execution_count": 15,
   "id": "00d5694f-3ee2-4f03-a3bc-aeca9b19680a",
   "metadata": {},
   "outputs": [],
   "source": [
    "(n_spy, S_spy) = let\n",
    "    price_df = out_of_sample_dataset[\"SPY\"];\n",
    "    startprice = filter(:timestamp => x-> x >= startdate, price_df) |> x-> x[1,:close]\n",
    "    nᵢ = (my_total_budget)/startprice;\n",
    "    S = price_df[:,:close];\n",
    "    nᵢ,S\n",
    "end;"
   ]
  },
  {
   "cell_type": "markdown",
   "id": "e8af4186-807d-4622-9a07-d4ed27fc40f9",
   "metadata": {},
   "source": [
    "### Compute the expected excess returns using single index models\n",
    "Here, we compute the expected return for each ticker in the `list_of_all_tickers::Array{String,1}` array  using the single index models calculated previously using a `for-loop.` For iteration of the loop:\n",
    "* Get the `ticker` symbol from the `list_of_all_tickers` array, and pull out the corresponding single index model from the `sim_model_dictionary` dictionary. Then, pull out the $(\\alpha, \\beta)$ parameters from the `sim` model instance and compute the expected return $\\mathbb{E}(R_{i})$. Store the expected return in the `μ_sim::Array{Float64,1}` array"
   ]
  },
  {
   "cell_type": "code",
   "execution_count": 17,
   "id": "efa779db-fb63-4318-ab4b-9214da9665d6",
   "metadata": {},
   "outputs": [],
   "source": [
    "μ_sim = Array{Float64,1}();\n",
    "for i ∈ eachindex(list_of_all_tickers)\n",
    "    sim = list_of_all_tickers[i] |> ticker -> sim_model_dictionary[ticker];   \n",
    "    αᵢ = sim.α\n",
    "    βᵢ = sim.β\n",
    "    (αᵢ+βᵢ*Rₘ) |> R̄ᵢ-> push!(μ_sim,R̄ᵢ); # evaluate the SIM for all the models in our collection\n",
    "end"
   ]
  },
  {
   "cell_type": "markdown",
   "id": "10c06339-06e2-4889-882c-e8206dfdbbe1",
   "metadata": {},
   "source": [
    "### Compute the covariance matrix using single index models\n",
    "Next, we build the covariance array using single index models. Substituting the single index model for the excess return of asset $i$ and $j$ into the covariance expression (and simplifying) gives:\n",
    "$$\n",
    "\\begin{equation*}\n",
    "\\text{cov}(R_{i}, R_{j}) = \\begin{cases}\n",
    "\\beta_{i}^{2}\\sigma_{m}^{2}+\\sigma_{\\epsilon_{i}}^{2} & i = j \\\\\n",
    "\\beta_{i}\\beta_{j}\\sigma_{m}^2 & i \\neq j\n",
    "\\end{cases}\n",
    "\\end{equation*}\n",
    "$$\n",
    "where $\\sigma_{m}^2$ denotes the variance of the excess return of the market, and $\\sigma_{\\epsilon_{i}}^{2}$ denotes the variance of the firm-specific error model (estimated when we constructed the single index models). To compute the risk $\\sigma_{m}$, which is the standard deviation of the return for the market portfolio, we use the [implied volatility of `SPY` options](https://marketchameleon.com/Overview/SPY/IV/). We save the single index model estimate of the covariance array in the `Σ_sim::Array{Float64,2}` variable:"
   ]
  },
  {
   "cell_type": "code",
   "execution_count": 19,
   "id": "4c178b3d-84cd-4b4a-901c-51e78aad1f42",
   "metadata": {},
   "outputs": [],
   "source": [
    "Σ_sim = let\n",
    "    Σ_tmp = Array{Float64,2}(undef, number_of_tickers, number_of_tickers);\n",
    "    for i ∈ eachindex(list_of_all_tickers)\n",
    "        \n",
    "        outer_ticker = list_of_all_tickers[i]; # ticker on the rows \n",
    "        sim_outer = sim_model_dictionary[outer_ticker]; # get SIM model for row ticker\n",
    "        \n",
    "        for j ∈ eachindex(list_of_all_tickers)\n",
    "            \n",
    "            inner_ticker = list_of_all_tickers[j]; # ticker in the cols\n",
    "            sim_inner = sim_model_dictionary[inner_ticker]; # get SIM model of the col ticker\n",
    "            \n",
    "            if (i == j) # we have a diagonal element\n",
    "                βᵢ = sim_outer.β\n",
    "                ϵᵢ = sim_outer.ϵ\n",
    "                σ_ϵᵢ = params(ϵᵢ)[2];\n",
    "                Σ_tmp[i,j] = ((βᵢ)^2)*((σₘ)^2)+(σ_ϵᵢ)^2\n",
    "            else\n",
    "                βᵢ = sim_outer.β\n",
    "                βⱼ = sim_inner.β\n",
    "                Σ_tmp[i,j] = βᵢ*βⱼ*(σₘ)^2\n",
    "            end\n",
    "        end\n",
    "    end\n",
    "    Σ_sim  = Σ_tmp |> x-> x*Δt # annualize\n",
    "end;"
   ]
  },
  {
   "cell_type": "markdown",
   "id": "c01e991c-3dd1-4759-9442-56c3147d59a2",
   "metadata": {},
   "source": [
    "## Task 1: Compute Single Index Minimum Variance Portfolios\n",
    "In this task, we'll compute the efficient frontier and the initial allocation for an efficient portfolio for the asset tickers you select. To start, select $N\\geq{10}$ assets from our collection of assets from the entries in the `list_of_all_tickers::Array{String,1}` array for your portfolio.\n",
    "* __What tickers can you chose__? You can choose any ticker symbol for which we have a single index model instance and for which we have out-of-sample test data (the ticker symbols in the `out_of_sample_dataset::Dict{String, DataFrame}` are the keys in this dictionary.) "
   ]
  },
  {
   "cell_type": "code",
   "execution_count": 21,
   "id": "d27e2c7b-9848-4096-88a3-32f0b4ba3088",
   "metadata": {},
   "outputs": [],
   "source": [
    "my_list_of_tickers = [\"fill me in\"]; # build your ticker collection"
   ]
  },
  {
   "cell_type": "markdown",
   "id": "08fd7039-be86-451c-8e13-e1f3c7e13cb9",
   "metadata": {},
   "source": [
    "#### Check: Do we have your tickers?\n",
    "Before getting too far, let's check that we have data for the ticker symbols you selected in the `my_list_of_tickers::Array{String,1}` array. First, we'll check that we have the corresponding single index model and then see if we have the out-of-sample data for each ticker."
   ]
  },
  {
   "cell_type": "code",
   "execution_count": 23,
   "id": "96226595-8175-465d-8e71-e246fbfebf78",
   "metadata": {},
   "outputs": [
    {
     "name": "stdout",
     "output_type": "stream",
     "text": [
      "Ooops! We don't have a SIM for ticker: fill me in\n"
     ]
    },
    {
     "ename": "LoadError",
     "evalue": "AssertionError: false",
     "output_type": "error",
     "traceback": [
      "AssertionError: false",
      "",
      "Stacktrace:",
      " [1] top-level scope",
      "   @ ./In[23]:7"
     ]
    }
   ],
   "source": [
    "for i ∈ eachindex(my_list_of_tickers)\n",
    "    ticker = my_list_of_tickers[i];\n",
    "\n",
    "    # check 1: do we have a SIM for this ticker?\n",
    "    if (haskey(sim_model_dictionary, ticker) == false)\n",
    "        println(\"Ooops! We don't have a SIM for ticker: $(ticker)\");\n",
    "        @assert false; # this will throw an AssertionError\n",
    "    end\n",
    "\n",
    "    # check 2: do we have the out-of-sample data?\n",
    "     if (haskey(out_of_sample_dataset, ticker) == false)\n",
    "        println(\"Ooops! We don't have out of sample data for ticker: $(ticker)\");\n",
    "        @assert false; # this will throw an AssertionError\n",
    "    end\n",
    "end"
   ]
  },
  {
   "cell_type": "markdown",
   "id": "ff789d6f-ab03-41b9-b8d5-c158972adffe",
   "metadata": {},
   "source": [
    "### Covariance, return, initial prices\n",
    "We'll now get the data required to solve the minimum variance portfolio problem. \n",
    "First, get the share price at the close of the market on `startdate::Date` for each asset in your portfolio. We'll store these values in the `Sₒ::Array{Float64,1}` array (and use them to calculate our initial allocation later):"
   ]
  },
  {
   "cell_type": "code",
   "execution_count": 25,
   "id": "6e410d8c-8033-44bc-92ac-fa50d81f497f",
   "metadata": {
    "jupyter": {
     "source_hidden": true
    }
   },
   "outputs": [
    {
     "ename": "LoadError",
     "evalue": "KeyError: key \"fill me in\" not found",
     "output_type": "error",
     "traceback": [
      "KeyError: key \"fill me in\" not found",
      "",
      "Stacktrace:",
      " [1] getindex(h::Dict{String, DataFrame}, key::String)",
      "   @ Base ./dict.jl:477",
      " [2] top-level scope",
      "   @ In[25]:4"
     ]
    }
   ],
   "source": [
    "Sₒ = let\n",
    "    Sₒ = Array{Float64,1}()\n",
    "    for ticker ∈ my_list_of_tickers\n",
    "        price_df = out_of_sample_dataset[ticker];\n",
    "        startprice = filter(:timestamp => x-> x >= startdate, price_df) |> x-> x[1,:close]\n",
    "        push!(Sₒ,startprice)\n",
    "    end\n",
    "    Sₒ;\n",
    "end;"
   ]
  },
  {
   "cell_type": "markdown",
   "id": "6f6f0300-733c-4c71-9691-8e6ca75b6968",
   "metadata": {},
   "source": [
    "* `Unhide` the code block below to see how we make a table that shows the initial share prices (at market close) for each `ticker` $\\in$ `my_list_of_tickers` on the first day of hypothetical trading specified by `startdate::Date`"
   ]
  },
  {
   "cell_type": "code",
   "execution_count": 27,
   "id": "f4eece1f-7a8f-4e3f-9bf9-af7058cadcd2",
   "metadata": {
    "jupyter": {
     "source_hidden": true
    }
   },
   "outputs": [
    {
     "ename": "LoadError",
     "evalue": "KeyError: key \"fill me in\" not found",
     "output_type": "error",
     "traceback": [
      "KeyError: key \"fill me in\" not found",
      "",
      "Stacktrace:",
      " [1] getindex(h::Dict{String, DataFrame}, key::String)",
      "   @ Base ./dict.jl:477",
      " [2] top-level scope",
      "   @ In[27]:4"
     ]
    }
   ],
   "source": [
    "let\n",
    "    df = DataFrame()\n",
    "    for ticker ∈ my_list_of_tickers\n",
    "        price_df = out_of_sample_dataset[ticker];\n",
    "        startprice = filter(:timestamp => x-> x >= startdate, price_df) |> x-> x[1,:close]\n",
    "        row_df = (\n",
    "            date = startdate,\n",
    "            ticker = ticker,\n",
    "            initial_share_price = startprice\n",
    "        );\n",
    "        push!(df, row_df);\n",
    "    end\n",
    "    pretty_table(df, tf=tf_simple)\n",
    "end"
   ]
  },
  {
   "cell_type": "markdown",
   "id": "e358b3ec-a01d-43bf-a8bb-7e275a4229d5",
   "metadata": {},
   "source": [
    "Next, we calculate the firm-specific expected return vector $\\hat{\\mu}$ and covariance matrix $\\hat{\\Sigma}$. We will store these in $\\hat{\\mu}$ `::Array{Float64,1}` and $\\hat{\\Sigma}$ `::Array{Float64,2}` variables. \n",
    "* We already computed these values for all tickers in our collection in the prerequisites; now, we need to grab only the data associated with your ticker collection specified in the `my_list_of_tickers::Array{String,1}`. We'll do this for you, so please do not edit this code block."
   ]
  },
  {
   "cell_type": "code",
   "execution_count": 29,
   "id": "ebcde176-e836-464e-bd01-66d60b9b0ce9",
   "metadata": {
    "jupyter": {
     "source_hidden": true
    }
   },
   "outputs": [
    {
     "ename": "LoadError",
     "evalue": "MethodError: \u001b[0mCannot `convert` an object of type \u001b[92mNothing\u001b[39m\u001b[0m to an object of type \u001b[91mInt64\u001b[39m\nThe function `convert` exists, but no method is defined for this combination of argument types.\n\n\u001b[0mClosest candidates are:\n\u001b[0m  convert(::Type{T}, \u001b[91m::AbstractChar\u001b[39m) where T<:Number\n\u001b[0m\u001b[90m   @\u001b[39m \u001b[90mBase\u001b[39m \u001b[90m\u001b[4mchar.jl:185\u001b[24m\u001b[39m\n\u001b[0m  convert(::Type{T}, \u001b[91m::T\u001b[39m) where T\n\u001b[0m\u001b[90m   @\u001b[39m \u001b[90mBase\u001b[39m \u001b[90m\u001b[4mBase.jl:126\u001b[24m\u001b[39m\n\u001b[0m  convert(::Type{T}, \u001b[91m::SentinelArrays.ChainedVectorIndex\u001b[39m) where T<:Union{Signed, Unsigned}\n\u001b[0m\u001b[90m   @\u001b[39m \u001b[36mSentinelArrays\u001b[39m \u001b[90m~/.julia/packages/SentinelArrays/v0rcL/src/\u001b[39m\u001b[90m\u001b[4mchainedvector.jl:241\u001b[24m\u001b[39m\n\u001b[0m  ...\n",
     "output_type": "error",
     "traceback": [
      "MethodError: \u001b[0mCannot `convert` an object of type \u001b[92mNothing\u001b[39m\u001b[0m to an object of type \u001b[91mInt64\u001b[39m\nThe function `convert` exists, but no method is defined for this combination of argument types.\n\n\u001b[0mClosest candidates are:\n\u001b[0m  convert(::Type{T}, \u001b[91m::AbstractChar\u001b[39m) where T<:Number\n\u001b[0m\u001b[90m   @\u001b[39m \u001b[90mBase\u001b[39m \u001b[90m\u001b[4mchar.jl:185\u001b[24m\u001b[39m\n\u001b[0m  convert(::Type{T}, \u001b[91m::T\u001b[39m) where T\n\u001b[0m\u001b[90m   @\u001b[39m \u001b[90mBase\u001b[39m \u001b[90m\u001b[4mBase.jl:126\u001b[24m\u001b[39m\n\u001b[0m  convert(::Type{T}, \u001b[91m::SentinelArrays.ChainedVectorIndex\u001b[39m) where T<:Union{Signed, Unsigned}\n\u001b[0m\u001b[90m   @\u001b[39m \u001b[36mSentinelArrays\u001b[39m \u001b[90m~/.julia/packages/SentinelArrays/v0rcL/src/\u001b[39m\u001b[90m\u001b[4mchainedvector.jl:241\u001b[24m\u001b[39m\n\u001b[0m  ...\n",
      "",
      "Stacktrace:",
      " [1] push!(a::Vector{Int64}, item::Nothing)",
      "   @ Base ./array.jl:1249",
      " [2] (::var\"#25#27\"{Vector{Int64}})(i::Nothing)",
      "   @ Main ./In[29]:6",
      " [3] |>(x::Nothing, f::var\"#25#27\"{Vector{Int64}})",
      "   @ Base ./operators.jl:926",
      " [4] top-level scope",
      "   @ In[29]:6"
     ]
    }
   ],
   "source": [
    "# --- DO NOT CHANGE THE CODE BELOW -------------------------------------------------------------------- #\n",
    "μ̂, Σ̂ = let\n",
    "\n",
    "    my_list_of_firm_ids = Array{Int64,1}();\n",
    "    for ticker ∈ my_list_of_tickers\n",
    "        findfirst(x->x==ticker, list_of_all_tickers) |> i -> push!(my_list_of_firm_ids, i);\n",
    "    end\n",
    "    my_number_of_selected_firms = length(my_list_of_firm_ids)\n",
    "\n",
    "    # Expected excess return\n",
    "    μ̂ = Array{Float64,1}();\n",
    "    for firm_index ∈ my_list_of_firm_ids\n",
    "        push!(μ̂, μ_sim[firm_index])\n",
    "    end\n",
    "    \n",
    "    # Covariance\n",
    "    Σ̂ = Array{Float64,2}(undef, my_number_of_selected_firms, my_number_of_selected_firms);\n",
    "    for i ∈ eachindex(my_list_of_firm_ids)\n",
    "        row_firm_index = my_list_of_firm_ids[i]\n",
    "        for j ∈ eachindex(my_list_of_firm_ids)\n",
    "            col_firm_index = my_list_of_firm_ids[j]\n",
    "            Σ̂[i,j] = Σ_sim[row_firm_index, col_firm_index]\n",
    "        end\n",
    "    end\n",
    "\n",
    "    μ̂, Σ̂\n",
    "end;\n",
    "# --- DO NOT CHANGE THE CODE ABOVE -------------------------------------------------------------------- #"
   ]
  },
  {
   "cell_type": "markdown",
   "id": "c66e3e86-79f4-4345-8f1e-31336cc96d7b",
   "metadata": {},
   "source": [
    "### Compute the efficient frontier\n",
    "Now, we can compute the single index model minimum variance efficient frontier, assuming only risky assets. We start by setting up the bounds and constants in the problem (see the comment next to value for a description of the constant, permissible values, etc)."
   ]
  },
  {
   "cell_type": "code",
   "execution_count": 31,
   "id": "e88e59b5-6297-4000-b6e0-445fddc981d1",
   "metadata": {},
   "outputs": [],
   "source": [
    "N = length(my_list_of_tickers); # how many tickers did we select?\n",
    "wₒ = zeros(N); # initial guess for allocation\n",
    "wₒ[1] = 1.0; # everything in asset 1 (initially)\n",
    "bounds = zeros(N,2); # bounds are a N x 2 array, first col is the lower bound, second col is the upper bound\n",
    "bounds[:,2] .= 1.0; # set the upper bound to 1.0 for each ticker. The .= is a vector operator \n",
    "number_of_points = 100; # how many portfolios do we want to create? (this will be an upper bound, as some may be infeasible)"
   ]
  },
  {
   "cell_type": "markdown",
   "id": "7641dd9b-192c-4751-8491-f9816428d439",
   "metadata": {},
   "source": [
    "Next, create an instance of the [MyMarkowitzRiskyAssetOnlyPortfiolioChoiceProblem type](https://varnerlab.github.io/VLQuantitativeFinancePackage.jl/dev/portfolio/#VLQuantitativeFinancePackage.MyMarkowitzRiskyAssetOnlyPortfiolioChoiceProblem) using a custom [build(...) method](https://varnerlab.github.io/VLQuantitativeFinancePackage.jl/dev/portfolio/#VLQuantitativeFinancePackage.build-Tuple{Type{MyMarkowitzRiskyAssetOnlyPortfiolioChoiceProblem},%20NamedTuple}). Store this in the `problem_risk` variable. You'll need to pass your covariance array $\\hat{\\Sigma}$, the expected return array $\\hat{\\mu}$, along with bounds and an initial guess, to the [build(...) method](https://varnerlab.github.io/VLQuantitativeFinancePackage.jl/dev/portfolio/#VLQuantitativeFinancePackage.build-Tuple{Type{MyMarkowitzRiskyAssetOnlyPortfiolioChoiceProblem},%20NamedTuple}). \n",
    "* Don't forget to set the initial `R` value to some dummy value (we'll update it later)."
   ]
  },
  {
   "cell_type": "code",
   "execution_count": 101,
   "id": "80f535ce-755e-4522-b2e8-640778744cc7",
   "metadata": {},
   "outputs": [],
   "source": [
    "problem_risk = nothing; # build an allocation problem object holding your problem data"
   ]
  },
  {
   "cell_type": "markdown",
   "id": "6070dad6-1a4b-4c04-92fe-88aeb2550da4",
   "metadata": {},
   "source": [
    "Now, create an array with the minimum desired rewards (the calculation must achieve at least this much reward). In this case, assume we go from `0` to `10`$\\times{r_{f}}$ and take `number_of_points` steps.  We store these values in the `minimum_desired_reward_array::Array{Float64,1}` variable.\n",
    "* __What is this for?__: This array specifies the lower bound of our desired portfolio return. Thus, we are asking the QP solver to find an allocation that achieves _at least_ this desired level of return for the minimum risk. Second, this is an _excess return_ array, thus it `0` corresponds to the risk free rate."
   ]
  },
  {
   "cell_type": "code",
   "execution_count": 35,
   "id": "0f75bcab-9fe3-4190-a5e6-9f7d999e2f14",
   "metadata": {},
   "outputs": [],
   "source": [
    "minimum_desired_reward_array = range(0.0, stop = 10*risk_free_rate, length = number_of_points) |> collect; # excess return from zero"
   ]
  },
  {
   "cell_type": "markdown",
   "id": "4f6a010b-be22-4e3e-aa79-77918e74dc9f",
   "metadata": {},
   "source": [
    "Finally, we iterate through the `minimum_desired_reward_array` and compute the minimum risk required to achieve the specified reward level [using a `for-loop.`](https://docs.julialang.org/en/v1/base/base/#for) For each pass through the loop, we:\n",
    "* Update the `problem_risk` variable with the minimum desired reward (set the `R` field). We then pass the updated `problem_risk` object to the [solve(...) method](https://varnerlab.github.io/VLQuantitativeFinancePackage.jl/dev/portfolio/#VLQuantitativeFinancePackage.solve-Tuple{MyMarkowitzRiskyAssetOnlyPortfiolioChoiceProblem}) (which initializes and solves the optimization problem). The solution returned from the [solve(...) method](https://varnerlab.github.io/VLQuantitativeFinancePackage.jl/dev/portfolio/#VLQuantitativeFinancePackage.solve-Tuple{MyMarkowitzRiskyAssetOnlyPortfiolioChoiceProblem}) is stored in the `solution` dictionary. \n",
    "* We check the `status` of the solution. If the `status` indicates an optimal solution was found, we store that solution in the `efficient_frontier` dictionary. In particular, we store the portfolio risk $\\sigma_{\\mathcal{P}}$ as the `key` and the portfolio's expected return as the `value` in the `efficient_frontier` dictionary.\n",
    "* __Why the [try-catch environment](https://docs.julialang.org/en/v1/base/base/#try)__? The [solve(...) method](https://varnerlab.github.io/VLQuantitativeFinancePackage.jl/dev/portfolio/#VLQuantitativeFinancePackage.solve-Tuple{MyMarkowitzRiskyAssetOnlyPortfiolioChoiceProblem}) has an [@assert statement](https://docs.julialang.org/en/v1/base/base/#Base.@assert) to check if the calculation is feasible. Thus, the solve method can [throw](https://docs.julialang.org/en/v1/base/base/#Core.throw) an [AssertionError](https://docs.julialang.org/en/v1/base/base/#Core.AssertionError) if the optimization problem fails to solve for some reason. To gracefully handle this case, we use a [try-catch construct](https://docs.julialang.org/en/v1/base/base/#try). See the [is_solved_and_feasible method from the JuMP package](https://jump.dev/JuMP.jl/stable/api/JuMP/#JuMP.is_solved_and_feasible) for more information."
   ]
  },
  {
   "cell_type": "code",
   "execution_count": null,
   "id": "69b57a69-9889-46fb-b76c-b3b4f15bf31c",
   "metadata": {},
   "outputs": [
    {
     "ename": "LoadError",
     "evalue": "type Nothing has no field R",
     "output_type": "error",
     "traceback": [
      "type Nothing has no field R",
      "",
      "Stacktrace:",
      " [1] setproperty!(x::Nothing, f::Symbol, v::Float64)",
      "   @ Base ./Base.jl:51",
      " [2] top-level scope",
      "   @ ./In[37]:6"
     ]
    }
   ],
   "source": [
    "efficient_frontier = let\n",
    "    efficient_frontier = Dict{Float64,Float64}();\n",
    "    for i ∈ eachindex(minimum_desired_reward_array)\n",
    "        \n",
    "        # update the problem object -\n",
    "        problem_risk.R = minimum_desired_reward_array[i]; # update the lower bound on desired return\n",
    "    \n",
    "        try\n",
    "            # call to the solver \n",
    "            solution = solve(problem_risk)\n",
    "    \n",
    "            # check: did this converge?\n",
    "            status_flag = solution[\"status\"];    \n",
    "            if (status_flag == MathOptInterface.LOCALLY_SOLVED)\n",
    "                key = sqrt(solution[\"objective_value\"]);\n",
    "                efficient_frontier[key] = solution[\"reward\"];\n",
    "            end\n",
    "        catch err\n",
    "            # Uncomment to see which R's failed ...\n",
    "            # println(\"Failed: desired R = $(problem_risk.R). Infeasible - $(err)\");\n",
    "        end\n",
    "    end\n",
    "    efficient_frontier;\n",
    "end;"
   ]
  },
  {
   "cell_type": "markdown",
   "id": "25376f4b-91df-41ce-8cf3-72e949a1432a",
   "metadata": {},
   "source": [
    "### Visualize\n",
    "`Unhide` the code block below to see how we plotted the efficient frontier for your collection of risk assets. Depending upon your choice of tickers, the efficient frontier may have different shapes. Generally, it should look like a concave function with a positive relationship between risk and reward (__no free lunch__: to get a higher return, you need to assume higher risk)."
   ]
  },
  {
   "cell_type": "code",
   "execution_count": null,
   "id": "200c5398-356e-4321-858f-3415b193cf16",
   "metadata": {
    "jupyter": {
     "source_hidden": true
    }
   },
   "outputs": [
    {
     "ename": "LoadError",
     "evalue": "UndefVarError: `efficient_frontier` not defined in `Main`\nSuggestion: check for spelling errors or missing imports.",
     "output_type": "error",
     "traceback": [
      "UndefVarError: `efficient_frontier` not defined in `Main`\nSuggestion: check for spelling errors or missing imports.",
      "",
      "Stacktrace:",
      " [1] top-level scope",
      "   @ In[39]:2"
     ]
    }
   ],
   "source": [
    "let\n",
    "    plot(efficient_frontier, label=\"SIM MinVar\", lw=3, c=:deepskyblue1, \n",
    "        bg=\"gray95\", background_color_outside=\"white\", framestyle = :box, fg_legend = :transparent)\n",
    "    scatter!(efficient_frontier, label=\"\", c=:white, msc=:deepskyblue1, ms=3)\n",
    "    xlabel!(\"Portfolio Risk (sqrt)\", fontsize=18)\n",
    "    ylabel!(\"Portfolio Excess Growth (1/yr)\", fontsize=18)\n",
    "end"
   ]
  },
  {
   "cell_type": "code",
   "execution_count": null,
   "id": "82486458-7529-40fc-b9ef-4ca429502910",
   "metadata": {},
   "outputs": [],
   "source": [
    "i_see_the_efficient_frontier = true; # If you see the plot, then set the `i_see_the_efficient_frontier` variable to `true`."
   ]
  },
  {
   "cell_type": "markdown",
   "id": "d920e940-a380-46ff-9002-102ef412e162",
   "metadata": {},
   "source": [
    "### Build a test portfolio\n",
    "Now that we have the efficient frontier, we can select a portfolio to explore. To begin, specify a desired portfolio growth rate in the `desired_growth_rate` variable:"
   ]
  },
  {
   "cell_type": "code",
   "execution_count": 42,
   "id": "604667fa-fe96-480b-ae3d-ef864728b490",
   "metadata": {},
   "outputs": [],
   "source": [
    "desired_growth_rate = nothing; # select a desired *excess* return"
   ]
  },
  {
   "cell_type": "markdown",
   "id": "f55def8c-a931-47b7-b687-fbf79aed2562",
   "metadata": {},
   "source": [
    "Next, resolve the minimum variance problem for the single-index models, assuming the `desired_growth_rate` value you specified. Update the `problem_risk` instance with your desired return level by setting the `R` field:"
   ]
  },
  {
   "cell_type": "code",
   "execution_count": 44,
   "id": "fd74debe-de93-4eb7-b17c-4a04beac244f",
   "metadata": {},
   "outputs": [
    {
     "ename": "LoadError",
     "evalue": "type Nothing has no field R",
     "output_type": "error",
     "traceback": [
      "type Nothing has no field R",
      "",
      "Stacktrace:",
      " [1] setproperty!(x::Nothing, f::Symbol, v::Nothing)",
      "   @ Base ./Base.jl:51",
      " [2] top-level scope",
      "   @ In[44]:1"
     ]
    }
   ],
   "source": [
    "problem_risk.R = desired_growth_rate; # update the problem with your desired level of retirn"
   ]
  },
  {
   "cell_type": "markdown",
   "id": "78840c69-4dd4-4e2d-8939-870148aee81e",
   "metadata": {},
   "source": [
    "Resolve the minimum-variance allocation problem for the updated problem instance. The solution is returned in the `solution_min_var::Dict{String, Any}` dictionary. The return is stored in the `reward` field, while the portfolio weight vector $\\omega$ is stored in the `argmax` field (this is a `N`$\\times$ `1` array of $\\omega_{i}$ values):"
   ]
  },
  {
   "cell_type": "code",
   "execution_count": 46,
   "id": "a7e0e79a-6033-445b-b57c-deaff564a8c2",
   "metadata": {},
   "outputs": [],
   "source": [
    "solution_min_var = nothing; # Resolve the min var problem"
   ]
  },
  {
   "cell_type": "markdown",
   "id": "3f729fdb-eb0a-4883-9480-8d960ece04e6",
   "metadata": {},
   "source": [
    "Finally, now that we have selected a portfolio, let's compute the number of shares of each asset we need to purchase. Save these values in the `MINVAR_Nₒ::Array{Float64,1}` variable. "
   ]
  },
  {
   "cell_type": "code",
   "execution_count": 48,
   "id": "8805f824-1974-4562-9453-289e463919a1",
   "metadata": {},
   "outputs": [
    {
     "ename": "LoadError",
     "evalue": "MethodError: no method matching getindex(::Nothing, ::String)\nThe function `getindex` exists, but no method is defined for this combination of argument types.",
     "output_type": "error",
     "traceback": [
      "MethodError: no method matching getindex(::Nothing, ::String)\nThe function `getindex` exists, but no method is defined for this combination of argument types.",
      "",
      "Stacktrace:",
      " [1] top-level scope",
      "   @ ./In[48]:4"
     ]
    }
   ],
   "source": [
    "MINVAR_Nₒ = let\n",
    "    N = length(my_list_of_tickers);\n",
    "    Nₒ = Array{Float64,1}()\n",
    "    ω = solution_min_var[\"argmax\"];\n",
    "    for i ∈ eachindex(my_list_of_tickers)\n",
    "        \n",
    "        wᵢ = 0.0;\n",
    "        nᵢ = 0.0;\n",
    "        push!(Nₒ,nᵢ)\n",
    "    end\n",
    "    Nₒ\n",
    "end;"
   ]
  },
  {
   "cell_type": "markdown",
   "id": "28fbed6a-c6f0-4de4-9125-74600a7cab67",
   "metadata": {},
   "source": [
    "`Unhide` the code block below to see how we made an initial allocation table. \n",
    "* The column `ticker` holds the firms in our portfolio, the column `w` holds the portfolio weight for that asset, the column `n` is the number of shares that we purchased near market close on `startdate::Date,` the `initial_share_price` column is the price per share of each ticker, and the `value` column holds the cash (liquidation) value of each position at market close on `startdate::Date.`"
   ]
  },
  {
   "cell_type": "code",
   "execution_count": 50,
   "id": "790dd14e-6ad1-4df1-94bc-28e6c76e012d",
   "metadata": {
    "jupyter": {
     "source_hidden": true
    }
   },
   "outputs": [
    {
     "ename": "LoadError",
     "evalue": "MethodError: no method matching getindex(::Nothing, ::String)\nThe function `getindex` exists, but no method is defined for this combination of argument types.",
     "output_type": "error",
     "traceback": [
      "MethodError: no method matching getindex(::Nothing, ::String)\nThe function `getindex` exists, but no method is defined for this combination of argument types.",
      "",
      "Stacktrace:",
      " [1] top-level scope",
      "   @ ./In[50]:2"
     ]
    }
   ],
   "source": [
    "let\n",
    "    ω = solution_min_var[\"argmax\"];\n",
    "    df = DataFrame();\n",
    "    for i ∈ eachindex(my_list_of_tickers)\n",
    "        ticker = my_list_of_tickers[i]; # get the ticker\n",
    "        value = MINVAR_Nₒ[i]*Sₒ[i];\n",
    "\n",
    "        row_df = (\n",
    "            ticker = ticker,\n",
    "            w = abs(ω[i]), # small negatives\n",
    "            n = MINVAR_Nₒ[i],\n",
    "            initial_share_price = Sₒ[i],\n",
    "            value = value\n",
    "        )\n",
    "        push!(df, row_df);\n",
    "    end\n",
    "\n",
    "    footer = (\n",
    "        ticker = \"total\",\n",
    "        w = sum(ω),\n",
    "        n = sum(MINVAR_Nₒ),\n",
    "        initial_share_price = 0,\n",
    "        value = sum(MINVAR_Nₒ.*Sₒ)\n",
    "    )\n",
    "    push!(df, footer)\n",
    "    \n",
    "    pretty_table(df, tf=tf_simple)   \n",
    "end"
   ]
  },
  {
   "cell_type": "markdown",
   "id": "0530ca8a-b92b-4b9d-93fc-6feb2a22544f",
   "metadata": {},
   "source": [
    "### Simulate Minimum Variance Portfolio Wealth\n",
    "Simulate the performance of the minimum variance portfolio starting from `startdate::Date` and ending on the last day of data available in the out-of-sample dataset. Store the wealth values in the `wealth_array_minimum_variance::Array{Float64,2}` array.\n",
    "* __What's the story with the `let` block__? A [let block](https://docs.julialang.org/en/v1/manual/variables-and-scoping/#Let-Blocks) creates a new hard scope and introduces new variable bindings each time they run. Thus, they act like a private scratch space, where data comes in (is captured by the block), but only what we want to be exposed comes out. In this case, we want the block to export the wealth, allocation, and beta arrays.\n",
    "* The `wealth_array_minimum_variance::Array{Float64,2}` array holds the wealth (liquidation value) of each asset $a\\in\\mathcal{P}$, and the total value in the last column. Each row of the `wealth_array_minimum_variance::Array{Float64,2}` array holds a trading period.\n",
    "* To get the value of the close prices for each trading day i, we use [the market(...) function](src/Compute.jl)."
   ]
  },
  {
   "cell_type": "code",
   "execution_count": 52,
   "id": "d09ba3e4-f29e-46eb-b005-be3af7ec49d3",
   "metadata": {},
   "outputs": [
    {
     "ename": "LoadError",
     "evalue": "KeyError: key \"fill me in\" not found",
     "output_type": "error",
     "traceback": [
      "KeyError: key \"fill me in\" not found",
      "",
      "Stacktrace:",
      " [1] getindex",
      "   @ ./dict.jl:477 [inlined]",
      " [2] market(data::Dict{String, DataFrame}, tickers::Vector{String}, index::Int64; key::Symbol)",
      "   @ Main ~/Desktop/julia_work/PS4-CHEME-5660-TEMPLATE-Fall-2024/src/Compute.jl:26",
      " [3] market",
      "   @ ~/Desktop/julia_work/PS4-CHEME-5660-TEMPLATE-Fall-2024/src/Compute.jl:18 [inlined]",
      " [4] top-level scope",
      "   @ ./In[52]:8"
     ]
    }
   ],
   "source": [
    "wealth_array_minimum_variance = let\n",
    "\n",
    "    N = length(my_list_of_tickers);\n",
    "    wealth_array = Array{Float64,2}(undef, number_of_trading_days - 1, N+1); # last col is the total\n",
    "    for i = 1:(number_of_trading_days - 1)\n",
    "\n",
    "        # get the close price array -\n",
    "        close_price_array = market(out_of_sample_dataset, my_list_of_tickers, i); # gets the close price for today\n",
    "        \n",
    "        # compute the wealth array -\n",
    "        for j ∈ eachindex(my_list_of_tickers)\n",
    "           wealth_array[i,j] = MINVAR_Nₒ[j]*close_price_array[j];\n",
    "        end\n",
    "        wealth_array[i,end] = sum(wealth_array[i,1:end-1]);        \n",
    "    end\n",
    "    wealth_array\n",
    "end;"
   ]
  },
  {
   "cell_type": "markdown",
   "id": "0990f539-3202-45a7-a467-e3410e9ece54",
   "metadata": {},
   "source": [
    "## Task 2: Compute Equally Weighted Portfolio\n",
    "In this task, we'll construct an equally weighted portfolio of the assets that you specified in the `my_list_of_tickers::Array{String,1}` array. The initial share prices were computed above, so let's start the equally weighted case by computing the number of shares we purchase to initiate the portfolio. We store these values in the `EQW_Nₒ::Array{Float64,1}` variable. The initial number of shares is given by:\n",
    "$$\n",
    "n_{a} = \\frac{1}{N}\\cdot\\left(\\frac{\\mathcal{B}}{S_{\\circ,a}}\\right)\\quad\\forall{a}\\in\\mathcal{P}\n",
    "$$\n",
    "where $\\mathcal{B}$ is the inital investment budget, $S_{\\circ,a}$ is the initial share price for asset $a$, and $\\omega_{a}$ denotes the allocation fraction for asset $a$. In this case, we have an equal partition, so $\\omega_{a} = 1/N$ where $N$ is the number of assets in the portfolio. "
   ]
  },
  {
   "cell_type": "code",
   "execution_count": 54,
   "id": "d102ec7e-2cbf-4d35-b371-57aa486a3e9d",
   "metadata": {},
   "outputs": [
    {
     "ename": "LoadError",
     "evalue": "UndefVarError: `Sₒ` not defined in `Main`\nSuggestion: check for spelling errors or missing imports.",
     "output_type": "error",
     "traceback": [
      "UndefVarError: `Sₒ` not defined in `Main`\nSuggestion: check for spelling errors or missing imports.",
      "",
      "Stacktrace:",
      " [1] top-level scope",
      "   @ ./In[54]:7"
     ]
    }
   ],
   "source": [
    "EQW_Nₒ = let\n",
    "    N = length(my_list_of_tickers);\n",
    "    Nₒ = Array{Float64,1}()\n",
    "    for i ∈ eachindex(my_list_of_tickers)\n",
    "        \n",
    "        wᵢ = 1/N; # equal weight allocation\n",
    "        nᵢ = (wᵢ*my_total_budget)/Sₒ[i];\n",
    "        push!(Nₒ,nᵢ)\n",
    "    end\n",
    "    Nₒ\n",
    "end;"
   ]
  },
  {
   "cell_type": "markdown",
   "id": "75f079f9-6b9a-4779-81b9-446c01856309",
   "metadata": {},
   "source": [
    "`Unhide` the code block below to see how we made an initial allocation table for the equally weighted portfolio.\n",
    "* The column `ticker` holds the firms in our portfolio, the column `w` holds the portfolio weight for that asset, the column `n` is the number of shares that we purchased near market close on `startdate::Date,` the `initial_share_price` column is the price per share of each ticker, and the `value` column holds the cash (liquidation) value of each position at market close on `startdate::Date.`"
   ]
  },
  {
   "cell_type": "code",
   "execution_count": 56,
   "id": "5cc7ac11-90f7-4b2b-ae92-9b81f7356e14",
   "metadata": {
    "jupyter": {
     "source_hidden": true
    }
   },
   "outputs": [
    {
     "ename": "LoadError",
     "evalue": "UndefVarError: `EQW_Nₒ` not defined in `Main`\nSuggestion: check for spelling errors or missing imports.",
     "output_type": "error",
     "traceback": [
      "UndefVarError: `EQW_Nₒ` not defined in `Main`\nSuggestion: check for spelling errors or missing imports.",
      "",
      "Stacktrace:",
      " [1] top-level scope",
      "   @ ./In[56]:8"
     ]
    }
   ],
   "source": [
    "let\n",
    "    df = DataFrame();\n",
    "    N = length(my_list_of_tickers);\n",
    "    w = (1/N)*ones(N);\n",
    "\n",
    "    for i ∈ eachindex(my_list_of_tickers)\n",
    "        ticker = my_list_of_tickers[i]; # get the ticker\n",
    "        value = EQW_Nₒ[i]*Sₒ[i];\n",
    "\n",
    "        row_df = (\n",
    "            ticker = ticker,\n",
    "            w = w[i],\n",
    "            n = EQW_Nₒ[i],\n",
    "            initial_share_price = Sₒ[i],\n",
    "            value = value\n",
    "        )\n",
    "        push!(df, row_df);\n",
    "    end\n",
    "\n",
    "    footer = (\n",
    "        ticker = \"total\",\n",
    "        w = sum(w),\n",
    "        n = sum(EQW_Nₒ),\n",
    "        initial_share_price = 0,\n",
    "        value = sum(EQW_Nₒ.*Sₒ)\n",
    "    )\n",
    "    push!(df, footer)\n",
    "    \n",
    "    pretty_table(df, tf=tf_simple)   \n",
    "end"
   ]
  },
  {
   "cell_type": "markdown",
   "id": "de86275c-1f25-48d3-94d1-72947d5e573a",
   "metadata": {},
   "source": [
    "### Simulation Equally Weighted Portfolio\n",
    "Simulate the performance of the equally weighted portfolio starting from `startdate::Date` and ending on the last day of data available in the out-of-sample dataset. Store the wealth values in the `wealth_array_equally_weighted::Array{Float64,2}` array.\n",
    "* __What's the story with the `let` block__? A [let block](https://docs.julialang.org/en/v1/manual/variables-and-scoping/#Let-Blocks) creates a new hard scope and introduces new variable bindings each time they run. Thus, they act like a private scratch space, where data comes in (is captured by the block), but only what we want to be exposed comes out. In this case, we want the block to export the wealth, allocation, and beta arrays.\n",
    "* The `wealth_array_equally_weighted::Array{Float64,2}` array holds the wealth (liquidation value) of each asset $a\\in\\mathcal{P}$, and the total value in the last column. Each row of the `wealth_array_equally_weighted::Array{Float64,2}` array holds a trading period.\n",
    "* To get the value of the close prices for each trading day `i`, we use [the `market(...)` function](src/Compute.jl)."
   ]
  },
  {
   "cell_type": "code",
   "execution_count": 58,
   "id": "c63f7a32-d583-4088-844e-b9ac5d490558",
   "metadata": {},
   "outputs": [
    {
     "ename": "LoadError",
     "evalue": "KeyError: key \"fill me in\" not found",
     "output_type": "error",
     "traceback": [
      "KeyError: key \"fill me in\" not found",
      "",
      "Stacktrace:",
      " [1] getindex",
      "   @ ./dict.jl:477 [inlined]",
      " [2] market(data::Dict{String, DataFrame}, tickers::Vector{String}, index::Int64; key::Symbol)",
      "   @ Main ~/Desktop/julia_work/PS4-CHEME-5660-TEMPLATE-Fall-2024/src/Compute.jl:26",
      " [3] market",
      "   @ ~/Desktop/julia_work/PS4-CHEME-5660-TEMPLATE-Fall-2024/src/Compute.jl:18 [inlined]",
      " [4] top-level scope",
      "   @ ./In[58]:8"
     ]
    }
   ],
   "source": [
    "wealth_array_equally_weighted = let\n",
    "\n",
    "    N = length(my_list_of_tickers);\n",
    "    wealth_array = Array{Float64,2}(undef, number_of_trading_days - 1, N+1); # last col is the total\n",
    "    for i = 1:(number_of_trading_days - 1)\n",
    "\n",
    "        # get the close price array -\n",
    "        close_price_array = market(out_of_sample_dataset, my_list_of_tickers, i); # gets the close price for today\n",
    "        \n",
    "        # compute the wealth array -\n",
    "        for j ∈ eachindex(my_list_of_tickers)\n",
    "           wealth_array[i,j] = EQW_Nₒ[j]*close_price_array[j];\n",
    "        end\n",
    "        wealth_array[i,end] = sum(wealth_array[i,1:end-1]);        \n",
    "    end\n",
    "    wealth_array\n",
    "end;"
   ]
  },
  {
   "cell_type": "markdown",
   "id": "c779822e-0d75-4710-9a15-60632f17c7f2",
   "metadata": {},
   "source": [
    "## Task 3: Which approach should we choose?\n",
    "In this task, we'll compare the three investment approaches and determine which performs better. In particular, we'll plot the wealth array for the minimum variance portfolio, the equally weighted portfolio, and the [SP500 `SPY` ETF](https://finance.yahoo.com/quote/SPY/) for `2024`."
   ]
  },
  {
   "cell_type": "markdown",
   "id": "e7563834-945e-449b-aa69-a1ba893b5a60",
   "metadata": {},
   "source": [
    "### Visualize your wealth array\n",
    "`Unhide` the code block below to see how we plotted the wealth arrays for the three approaches. Depending upon your choice of assets, you could over- or under-perform [the `SPY` ETF](https://finance.yahoo.com/quote/SPY/)."
   ]
  },
  {
   "cell_type": "code",
   "execution_count": 61,
   "id": "796009f7-2a48-4050-9f8d-803d0b0138c0",
   "metadata": {},
   "outputs": [
    {
     "ename": "LoadError",
     "evalue": "UndefVarError: `wealth_array_minimum_variance` not defined in `Main`\nSuggestion: check for spelling errors or missing imports.",
     "output_type": "error",
     "traceback": [
      "UndefVarError: `wealth_array_minimum_variance` not defined in `Main`\nSuggestion: check for spelling errors or missing imports.",
      "",
      "Stacktrace:",
      " [1] top-level scope",
      "   @ In[61]:2"
     ]
    }
   ],
   "source": [
    "let\n",
    "    plot(wealth_array_minimum_variance[:,end], lw=2, c=:deepskyblue1, label=\"Minimum Variance\")\n",
    "    plot!(wealth_array_equally_weighted[:,end], lw=2, c=:navy, label=\"Equally Weighted\")\n",
    "    plot!(n_spy*S_spy, c=:red, lw=2, label=\"SPY\")\n",
    "    xlabel!(\"Trading Day Index 2024 (AU)\", fontsize=18);\n",
    "    ylabel!(\"Total Wealth (USD)\", fontsize=18)\n",
    "end"
   ]
  },
  {
   "cell_type": "code",
   "execution_count": 62,
   "id": "546d744b-8cf3-4d97-9dc4-390e73959048",
   "metadata": {},
   "outputs": [],
   "source": [
    "i_see_the_wealth_plot = false; # If you see the wealth plot, then set the `i_see_the_wealth_plot` variable to `true`."
   ]
  },
  {
   "cell_type": "markdown",
   "id": "80cd0ec4-ee5e-4762-84e4-3c8bb84f362f",
   "metadata": {},
   "source": [
    "### Winner?\n",
    "Let's rank the approaches based on the final wealth value (this is not the only way to do this, but it's the simplest):"
   ]
  },
  {
   "cell_type": "code",
   "execution_count": 64,
   "id": "83d1686e-6233-4ca5-b931-588f3c8bf863",
   "metadata": {},
   "outputs": [
    {
     "ename": "LoadError",
     "evalue": "UndefVarError: `wealth_array_minimum_variance` not defined in `Main`\nSuggestion: check for spelling errors or missing imports.",
     "output_type": "error",
     "traceback": [
      "UndefVarError: `wealth_array_minimum_variance` not defined in `Main`\nSuggestion: check for spelling errors or missing imports.",
      "",
      "Stacktrace:",
      " [1] top-level scope",
      "   @ In[64]:1"
     ]
    }
   ],
   "source": [
    "labels = [\"SPY\", \"MINVAR\", \"EQW\"]; # create a label array\n",
    "W = [(n_spy*S_spy)[end], wealth_array_minimum_variance[end], wealth_array_equally_weighted[end]];\n",
    "sortperm(W, rev=true) |> i -> labels[i]"
   ]
  },
  {
   "cell_type": "markdown",
   "id": "63eddcdd-ba0a-47bf-aa3f-cb781232fa41",
   "metadata": {},
   "source": [
    "## Tests\n",
    "In the code block below, we check some values in your notebook and give you feedback on which items are correct or different. `Unhide` the code block below (if you are curious) about how we implemented the tests and what we are testing."
   ]
  },
  {
   "cell_type": "code",
   "execution_count": 66,
   "id": "5f9cb95f-5547-41a0-80c3-e87349697bb0",
   "metadata": {
    "jupyter": {
     "source_hidden": true
    }
   },
   "outputs": [
    {
     "name": "stdout",
     "output_type": "stream",
     "text": [
      "Task 1: Minimum Variance Portfolio Tests: \u001b[91m\u001b[1mTest Failed\u001b[22m\u001b[39m at \u001b[39m\u001b[1mIn[66]:6\u001b[22m\n",
      "  Expression: length(my_list_of_tickers) ≥ 10\n",
      "   Evaluated: 1 ≥ 10\n",
      "\n",
      "Stacktrace:\n",
      " [1] \u001b[0m\u001b[1mmacro expansion\u001b[22m\n",
      "\u001b[90m   @\u001b[39m \u001b[90m~/.julia/juliaup/julia-1.11.1+0.aarch64.apple.darwin14/share/julia/stdlib/v1.11/Test/src/\u001b[39m\u001b[90m\u001b[4mTest.jl:679\u001b[24m\u001b[39m\u001b[90m [inlined]\u001b[39m\n",
      " [2] \u001b[0m\u001b[1mmacro expansion\u001b[22m\n",
      "\u001b[90m   @\u001b[39m \u001b[90m\u001b[4mIn[66]:6\u001b[24m\u001b[39m\u001b[90m [inlined]\u001b[39m\n",
      " [3] \u001b[0m\u001b[1mmacro expansion\u001b[22m\n",
      "\u001b[90m   @\u001b[39m \u001b[90m~/.julia/juliaup/julia-1.11.1+0.aarch64.apple.darwin14/share/julia/stdlib/v1.11/Test/src/\u001b[39m\u001b[90m\u001b[4mTest.jl:1700\u001b[24m\u001b[39m\u001b[90m [inlined]\u001b[39m\n",
      " [4] \u001b[0m\u001b[1mmacro expansion\u001b[22m\n",
      "\u001b[90m   @\u001b[39m \u001b[90m\u001b[4mIn[66]:6\u001b[24m\u001b[39m\u001b[90m [inlined]\u001b[39m\n",
      " [5] \u001b[0m\u001b[1mmacro expansion\u001b[22m\n",
      "\u001b[90m   @\u001b[39m \u001b[90m~/.julia/juliaup/julia-1.11.1+0.aarch64.apple.darwin14/share/julia/stdlib/v1.11/Test/src/\u001b[39m\u001b[90m\u001b[4mTest.jl:1700\u001b[24m\u001b[39m\u001b[90m [inlined]\u001b[39m\n",
      " [6] top-level scope\n",
      "\u001b[90m   @\u001b[39m \u001b[90m\u001b[4mIn[66]:5\u001b[24m\u001b[39m\n",
      "Task 1: Minimum Variance Portfolio Tests: \u001b[91m\u001b[1mTest Failed\u001b[22m\u001b[39m at \u001b[39m\u001b[1mIn[66]:7\u001b[22m\n",
      "  Expression: typeof(problem_risk) == MyMarkowitzRiskyAssetOnlyPortfiolioChoiceProblem\n",
      "   Evaluated: Nothing == MyMarkowitzRiskyAssetOnlyPortfiolioChoiceProblem\n",
      "\n",
      "Stacktrace:\n",
      " [1] \u001b[0m\u001b[1mmacro expansion\u001b[22m\n",
      "\u001b[90m   @\u001b[39m \u001b[90m~/.julia/juliaup/julia-1.11.1+0.aarch64.apple.darwin14/share/julia/stdlib/v1.11/Test/src/\u001b[39m\u001b[90m\u001b[4mTest.jl:679\u001b[24m\u001b[39m\u001b[90m [inlined]\u001b[39m\n",
      " [2] \u001b[0m\u001b[1mmacro expansion\u001b[22m\n",
      "\u001b[90m   @\u001b[39m \u001b[90m\u001b[4mIn[66]:7\u001b[24m\u001b[39m\u001b[90m [inlined]\u001b[39m\n",
      " [3] \u001b[0m\u001b[1mmacro expansion\u001b[22m\n",
      "\u001b[90m   @\u001b[39m \u001b[90m~/.julia/juliaup/julia-1.11.1+0.aarch64.apple.darwin14/share/julia/stdlib/v1.11/Test/src/\u001b[39m\u001b[90m\u001b[4mTest.jl:1700\u001b[24m\u001b[39m\u001b[90m [inlined]\u001b[39m\n",
      " [4] \u001b[0m\u001b[1mmacro expansion\u001b[22m\n",
      "\u001b[90m   @\u001b[39m \u001b[90m\u001b[4mIn[66]:6\u001b[24m\u001b[39m\u001b[90m [inlined]\u001b[39m\n",
      " [5] \u001b[0m\u001b[1mmacro expansion\u001b[22m\n",
      "\u001b[90m   @\u001b[39m \u001b[90m~/.julia/juliaup/julia-1.11.1+0.aarch64.apple.darwin14/share/julia/stdlib/v1.11/Test/src/\u001b[39m\u001b[90m\u001b[4mTest.jl:1700\u001b[24m\u001b[39m\u001b[90m [inlined]\u001b[39m\n",
      " [6] top-level scope\n",
      "\u001b[90m   @\u001b[39m \u001b[90m\u001b[4mIn[66]:5\u001b[24m\u001b[39m\n",
      "Task 1: Minimum Variance Portfolio Tests: \u001b[91m\u001b[1mError During Test\u001b[22m\u001b[39m at \u001b[39m\u001b[1mIn[66]:8\u001b[22m\n",
      "  Test threw exception\n",
      "  Expression: isempty(efficient_frontier) == false\n",
      "  UndefVarError: `efficient_frontier` not defined in `Main`\n",
      "  Suggestion: check for spelling errors or missing imports.\n",
      "  Stacktrace:\n",
      "   [1] \u001b[0m\u001b[1mmacro expansion\u001b[22m\n",
      "  \u001b[90m   @\u001b[39m \u001b[90m~/.julia/juliaup/julia-1.11.1+0.aarch64.apple.darwin14/share/julia/stdlib/v1.11/Test/src/\u001b[39m\u001b[90m\u001b[4mTest.jl:676\u001b[24m\u001b[39m\u001b[90m [inlined]\u001b[39m\n",
      "   [2] \u001b[0m\u001b[1mmacro expansion\u001b[22m\n",
      "  \u001b[90m   @\u001b[39m \u001b[90m\u001b[4mIn[66]:8\u001b[24m\u001b[39m\u001b[90m [inlined]\u001b[39m\n",
      "   [3] \u001b[0m\u001b[1mmacro expansion\u001b[22m\n",
      "  \u001b[90m   @\u001b[39m \u001b[90m~/.julia/juliaup/julia-1.11.1+0.aarch64.apple.darwin14/share/julia/stdlib/v1.11/Test/src/\u001b[39m\u001b[90m\u001b[4mTest.jl:1700\u001b[24m\u001b[39m\u001b[90m [inlined]\u001b[39m\n",
      "   [4] \u001b[0m\u001b[1mmacro expansion\u001b[22m\n",
      "  \u001b[90m   @\u001b[39m \u001b[90m\u001b[4mIn[66]:6\u001b[24m\u001b[39m\u001b[90m [inlined]\u001b[39m\n",
      "   [5] \u001b[0m\u001b[1mmacro expansion\u001b[22m\n",
      "  \u001b[90m   @\u001b[39m \u001b[90m~/.julia/juliaup/julia-1.11.1+0.aarch64.apple.darwin14/share/julia/stdlib/v1.11/Test/src/\u001b[39m\u001b[90m\u001b[4mTest.jl:1700\u001b[24m\u001b[39m\u001b[90m [inlined]\u001b[39m\n",
      "   [6] top-level scope\n",
      "  \u001b[90m   @\u001b[39m \u001b[90m\u001b[4mIn[66]:5\u001b[24m\u001b[39m\n",
      "Task 1: Minimum Variance Portfolio Tests: \u001b[91m\u001b[1mTest Failed\u001b[22m\u001b[39m at \u001b[39m\u001b[1mIn[66]:9\u001b[22m\n",
      "  Expression: solution_min_var != nothing\n",
      "   Evaluated: nothing != nothing\n",
      "\n",
      "Stacktrace:\n",
      " [1] \u001b[0m\u001b[1mmacro expansion\u001b[22m\n",
      "\u001b[90m   @\u001b[39m \u001b[90m~/.julia/juliaup/julia-1.11.1+0.aarch64.apple.darwin14/share/julia/stdlib/v1.11/Test/src/\u001b[39m\u001b[90m\u001b[4mTest.jl:679\u001b[24m\u001b[39m\u001b[90m [inlined]\u001b[39m\n",
      " [2] \u001b[0m\u001b[1mmacro expansion\u001b[22m\n",
      "\u001b[90m   @\u001b[39m \u001b[90m\u001b[4mIn[66]:9\u001b[24m\u001b[39m\u001b[90m [inlined]\u001b[39m\n",
      " [3] \u001b[0m\u001b[1mmacro expansion\u001b[22m\n",
      "\u001b[90m   @\u001b[39m \u001b[90m~/.julia/juliaup/julia-1.11.1+0.aarch64.apple.darwin14/share/julia/stdlib/v1.11/Test/src/\u001b[39m\u001b[90m\u001b[4mTest.jl:1700\u001b[24m\u001b[39m\u001b[90m [inlined]\u001b[39m\n",
      " [4] \u001b[0m\u001b[1mmacro expansion\u001b[22m\n",
      "\u001b[90m   @\u001b[39m \u001b[90m\u001b[4mIn[66]:6\u001b[24m\u001b[39m\u001b[90m [inlined]\u001b[39m\n",
      " [5] \u001b[0m\u001b[1mmacro expansion\u001b[22m\n",
      "\u001b[90m   @\u001b[39m \u001b[90m~/.julia/juliaup/julia-1.11.1+0.aarch64.apple.darwin14/share/julia/stdlib/v1.11/Test/src/\u001b[39m\u001b[90m\u001b[4mTest.jl:1700\u001b[24m\u001b[39m\u001b[90m [inlined]\u001b[39m\n",
      " [6] top-level scope\n",
      "\u001b[90m   @\u001b[39m \u001b[90m\u001b[4mIn[66]:5\u001b[24m\u001b[39m\n",
      "Task 1: Minimum Variance Portfolio Tests: \u001b[91m\u001b[1mError During Test\u001b[22m\u001b[39m at \u001b[39m\u001b[1mIn[66]:10\u001b[22m\n",
      "  Test threw exception\n",
      "  Expression: isempty(wealth_array_minimum_variance) == false\n",
      "  UndefVarError: `wealth_array_minimum_variance` not defined in `Main`\n",
      "  Suggestion: check for spelling errors or missing imports.\n",
      "  Stacktrace:\n",
      "   [1] \u001b[0m\u001b[1mmacro expansion\u001b[22m\n",
      "  \u001b[90m   @\u001b[39m \u001b[90m~/.julia/juliaup/julia-1.11.1+0.aarch64.apple.darwin14/share/julia/stdlib/v1.11/Test/src/\u001b[39m\u001b[90m\u001b[4mTest.jl:676\u001b[24m\u001b[39m\u001b[90m [inlined]\u001b[39m\n",
      "   [2] \u001b[0m\u001b[1mmacro expansion\u001b[22m\n",
      "  \u001b[90m   @\u001b[39m \u001b[90m\u001b[4mIn[66]:10\u001b[24m\u001b[39m\u001b[90m [inlined]\u001b[39m\n",
      "   [3] \u001b[0m\u001b[1mmacro expansion\u001b[22m\n",
      "  \u001b[90m   @\u001b[39m \u001b[90m~/.julia/juliaup/julia-1.11.1+0.aarch64.apple.darwin14/share/julia/stdlib/v1.11/Test/src/\u001b[39m\u001b[90m\u001b[4mTest.jl:1700\u001b[24m\u001b[39m\u001b[90m [inlined]\u001b[39m\n",
      "   [4] \u001b[0m\u001b[1mmacro expansion\u001b[22m\n",
      "  \u001b[90m   @\u001b[39m \u001b[90m\u001b[4mIn[66]:6\u001b[24m\u001b[39m\u001b[90m [inlined]\u001b[39m\n",
      "   [5] \u001b[0m\u001b[1mmacro expansion\u001b[22m\n",
      "  \u001b[90m   @\u001b[39m \u001b[90m~/.julia/juliaup/julia-1.11.1+0.aarch64.apple.darwin14/share/julia/stdlib/v1.11/Test/src/\u001b[39m\u001b[90m\u001b[4mTest.jl:1700\u001b[24m\u001b[39m\u001b[90m [inlined]\u001b[39m\n",
      "   [6] top-level scope\n",
      "  \u001b[90m   @\u001b[39m \u001b[90m\u001b[4mIn[66]:5\u001b[24m\u001b[39m\n",
      "Task 1: Minimum Variance Portfolio Tests: \u001b[91m\u001b[1mTest Failed\u001b[22m\u001b[39m at \u001b[39m\u001b[1mIn[66]:11\u001b[22m\n",
      "  Expression: i_see_the_efficient_frontier == true\n",
      "   Evaluated: false == true\n",
      "\n",
      "Stacktrace:\n",
      " [1] \u001b[0m\u001b[1mmacro expansion\u001b[22m\n",
      "\u001b[90m   @\u001b[39m \u001b[90m~/.julia/juliaup/julia-1.11.1+0.aarch64.apple.darwin14/share/julia/stdlib/v1.11/Test/src/\u001b[39m\u001b[90m\u001b[4mTest.jl:679\u001b[24m\u001b[39m\u001b[90m [inlined]\u001b[39m\n",
      " [2] \u001b[0m\u001b[1mmacro expansion\u001b[22m\n",
      "\u001b[90m   @\u001b[39m \u001b[90m\u001b[4mIn[66]:11\u001b[24m\u001b[39m\u001b[90m [inlined]\u001b[39m\n",
      " [3] \u001b[0m\u001b[1mmacro expansion\u001b[22m\n",
      "\u001b[90m   @\u001b[39m \u001b[90m~/.julia/juliaup/julia-1.11.1+0.aarch64.apple.darwin14/share/julia/stdlib/v1.11/Test/src/\u001b[39m\u001b[90m\u001b[4mTest.jl:1700\u001b[24m\u001b[39m\u001b[90m [inlined]\u001b[39m\n",
      " [4] \u001b[0m\u001b[1mmacro expansion\u001b[22m\n",
      "\u001b[90m   @\u001b[39m \u001b[90m\u001b[4mIn[66]:6\u001b[24m\u001b[39m\u001b[90m [inlined]\u001b[39m\n",
      " [5] \u001b[0m\u001b[1mmacro expansion\u001b[22m\n",
      "\u001b[90m   @\u001b[39m \u001b[90m~/.julia/juliaup/julia-1.11.1+0.aarch64.apple.darwin14/share/julia/stdlib/v1.11/Test/src/\u001b[39m\u001b[90m\u001b[4mTest.jl:1700\u001b[24m\u001b[39m\u001b[90m [inlined]\u001b[39m\n",
      " [6] top-level scope\n",
      "\u001b[90m   @\u001b[39m \u001b[90m\u001b[4mIn[66]:5\u001b[24m\u001b[39m\n",
      "Task 2: Equally Weighted Portfolio Tests: \u001b[91m\u001b[1mError During Test\u001b[22m\u001b[39m at \u001b[39m\u001b[1mIn[66]:15\u001b[22m\n",
      "  Test threw exception\n",
      "  Expression: isempty(EQW_Nₒ) == false\n",
      "  UndefVarError: `EQW_Nₒ` not defined in `Main`\n",
      "  Suggestion: check for spelling errors or missing imports.\n",
      "  Stacktrace:\n",
      "   [1] \u001b[0m\u001b[1mmacro expansion\u001b[22m\n",
      "  \u001b[90m   @\u001b[39m \u001b[90m~/.julia/juliaup/julia-1.11.1+0.aarch64.apple.darwin14/share/julia/stdlib/v1.11/Test/src/\u001b[39m\u001b[90m\u001b[4mTest.jl:676\u001b[24m\u001b[39m\u001b[90m [inlined]\u001b[39m\n",
      "   [2] \u001b[0m\u001b[1mmacro expansion\u001b[22m\n",
      "  \u001b[90m   @\u001b[39m \u001b[90m\u001b[4mIn[66]:15\u001b[24m\u001b[39m\u001b[90m [inlined]\u001b[39m\n",
      "   [3] \u001b[0m\u001b[1mmacro expansion\u001b[22m\n",
      "  \u001b[90m   @\u001b[39m \u001b[90m~/.julia/juliaup/julia-1.11.1+0.aarch64.apple.darwin14/share/julia/stdlib/v1.11/Test/src/\u001b[39m\u001b[90m\u001b[4mTest.jl:1700\u001b[24m\u001b[39m\u001b[90m [inlined]\u001b[39m\n",
      "   [4] \u001b[0m\u001b[1mmacro expansion\u001b[22m\n",
      "  \u001b[90m   @\u001b[39m \u001b[90m\u001b[4mIn[66]:15\u001b[24m\u001b[39m\u001b[90m [inlined]\u001b[39m\n",
      "   [5] \u001b[0m\u001b[1mmacro expansion\u001b[22m\n",
      "  \u001b[90m   @\u001b[39m \u001b[90m~/.julia/juliaup/julia-1.11.1+0.aarch64.apple.darwin14/share/julia/stdlib/v1.11/Test/src/\u001b[39m\u001b[90m\u001b[4mTest.jl:1700\u001b[24m\u001b[39m\u001b[90m [inlined]\u001b[39m\n",
      "   [6] top-level scope\n",
      "  \u001b[90m   @\u001b[39m \u001b[90m\u001b[4mIn[66]:5\u001b[24m\u001b[39m\n",
      "Task 2: Equally Weighted Portfolio Tests: \u001b[91m\u001b[1mError During Test\u001b[22m\u001b[39m at \u001b[39m\u001b[1mIn[66]:16\u001b[22m\n",
      "  Test threw exception\n",
      "  Expression: isempty(wealth_array_equally_weighted) == false\n",
      "  UndefVarError: `wealth_array_equally_weighted` not defined in `Main`\n",
      "  Suggestion: check for spelling errors or missing imports.\n",
      "  Stacktrace:\n",
      "   [1] \u001b[0m\u001b[1mmacro expansion\u001b[22m\n",
      "  \u001b[90m   @\u001b[39m \u001b[90m~/.julia/juliaup/julia-1.11.1+0.aarch64.apple.darwin14/share/julia/stdlib/v1.11/Test/src/\u001b[39m\u001b[90m\u001b[4mTest.jl:676\u001b[24m\u001b[39m\u001b[90m [inlined]\u001b[39m\n",
      "   [2] \u001b[0m\u001b[1mmacro expansion\u001b[22m\n",
      "  \u001b[90m   @\u001b[39m \u001b[90m\u001b[4mIn[66]:16\u001b[24m\u001b[39m\u001b[90m [inlined]\u001b[39m\n",
      "   [3] \u001b[0m\u001b[1mmacro expansion\u001b[22m\n",
      "  \u001b[90m   @\u001b[39m \u001b[90m~/.julia/juliaup/julia-1.11.1+0.aarch64.apple.darwin14/share/julia/stdlib/v1.11/Test/src/\u001b[39m\u001b[90m\u001b[4mTest.jl:1700\u001b[24m\u001b[39m\u001b[90m [inlined]\u001b[39m\n",
      "   [4] \u001b[0m\u001b[1mmacro expansion\u001b[22m\n",
      "  \u001b[90m   @\u001b[39m \u001b[90m\u001b[4mIn[66]:15\u001b[24m\u001b[39m\u001b[90m [inlined]\u001b[39m\n",
      "   [5] \u001b[0m\u001b[1mmacro expansion\u001b[22m\n",
      "  \u001b[90m   @\u001b[39m \u001b[90m~/.julia/juliaup/julia-1.11.1+0.aarch64.apple.darwin14/share/julia/stdlib/v1.11/Test/src/\u001b[39m\u001b[90m\u001b[4mTest.jl:1700\u001b[24m\u001b[39m\u001b[90m [inlined]\u001b[39m\n",
      "   [6] top-level scope\n",
      "  \u001b[90m   @\u001b[39m \u001b[90m\u001b[4mIn[66]:5\u001b[24m\u001b[39m\n",
      "Task 3: Wealth Tests: \u001b[91m\u001b[1mTest Failed\u001b[22m\u001b[39m at \u001b[39m\u001b[1mIn[66]:20\u001b[22m\n",
      "  Expression: i_see_the_wealth_plot == true\n",
      "   Evaluated: false == true\n",
      "\n",
      "Stacktrace:\n",
      " [1] \u001b[0m\u001b[1mmacro expansion\u001b[22m\n",
      "\u001b[90m   @\u001b[39m \u001b[90m~/.julia/juliaup/julia-1.11.1+0.aarch64.apple.darwin14/share/julia/stdlib/v1.11/Test/src/\u001b[39m\u001b[90m\u001b[4mTest.jl:679\u001b[24m\u001b[39m\u001b[90m [inlined]\u001b[39m\n",
      " [2] \u001b[0m\u001b[1mmacro expansion\u001b[22m\n",
      "\u001b[90m   @\u001b[39m \u001b[90m\u001b[4mIn[66]:20\u001b[24m\u001b[39m\u001b[90m [inlined]\u001b[39m\n",
      " [3] \u001b[0m\u001b[1mmacro expansion\u001b[22m\n",
      "\u001b[90m   @\u001b[39m \u001b[90m~/.julia/juliaup/julia-1.11.1+0.aarch64.apple.darwin14/share/julia/stdlib/v1.11/Test/src/\u001b[39m\u001b[90m\u001b[4mTest.jl:1700\u001b[24m\u001b[39m\u001b[90m [inlined]\u001b[39m\n",
      " [4] \u001b[0m\u001b[1mmacro expansion\u001b[22m\n",
      "\u001b[90m   @\u001b[39m \u001b[90m\u001b[4mIn[66]:20\u001b[24m\u001b[39m\u001b[90m [inlined]\u001b[39m\n",
      " [5] \u001b[0m\u001b[1mmacro expansion\u001b[22m\n",
      "\u001b[90m   @\u001b[39m \u001b[90m~/.julia/juliaup/julia-1.11.1+0.aarch64.apple.darwin14/share/julia/stdlib/v1.11/Test/src/\u001b[39m\u001b[90m\u001b[4mTest.jl:1700\u001b[24m\u001b[39m\u001b[90m [inlined]\u001b[39m\n",
      " [6] top-level scope\n",
      "\u001b[90m   @\u001b[39m \u001b[90m\u001b[4mIn[66]:5\u001b[24m\u001b[39m\n",
      "\u001b[0m\u001b[1mTest Summary:                              | \u001b[22m\u001b[91m\u001b[1mFail  \u001b[22m\u001b[39m\u001b[91m\u001b[1mError  \u001b[22m\u001b[39m\u001b[36m\u001b[1mTotal  \u001b[22m\u001b[39m\u001b[0m\u001b[1mTime\u001b[22m\n",
      "CHEME 5660 problem set 4 test suite        | \u001b[91m   5  \u001b[39m\u001b[91m    4  \u001b[39m\u001b[36m    9  \u001b[39m\u001b[0m1.2s\n",
      "  Task 1: Minimum Variance Portfolio Tests | \u001b[91m   4  \u001b[39m\u001b[91m    2  \u001b[39m\u001b[36m    6  \u001b[39m\u001b[0m1.2s\n",
      "  Task 2: Equally Weighted Portfolio Tests | \u001b[91m      \u001b[39m\u001b[91m    2  \u001b[39m\u001b[36m    2  \u001b[39m\u001b[0m0.0s\n",
      "  Task 3: Wealth Tests                     | \u001b[91m   1  \u001b[39m\u001b[91m       \u001b[39m\u001b[36m    1  \u001b[39m\u001b[0m0.0s\n"
     ]
    },
    {
     "ename": "LoadError",
     "evalue": "\u001b[91mSome tests did not pass: 0 passed, 5 failed, 4 errored, 0 broken.\u001b[39m",
     "output_type": "error",
     "traceback": [
      "\u001b[91mSome tests did not pass: 0 passed, 5 failed, 4 errored, 0 broken.\u001b[39m",
      "",
      "Stacktrace:",
      " [1] finish(ts::Test.DefaultTestSet; print_results::Bool)",
      "   @ Test ~/.julia/juliaup/julia-1.11.1+0.aarch64.apple.darwin14/share/julia/stdlib/v1.11/Test/src/Test.jl:1254",
      " [2] finish(ts::Test.DefaultTestSet)",
      "   @ Test ~/.julia/juliaup/julia-1.11.1+0.aarch64.apple.darwin14/share/julia/stdlib/v1.11/Test/src/Test.jl:1229",
      " [3] macro expansion",
      "   @ ~/.julia/juliaup/julia-1.11.1+0.aarch64.apple.darwin14/share/julia/stdlib/v1.11/Test/src/Test.jl:1716 [inlined]",
      " [4] top-level scope",
      "   @ In[66]:5"
     ]
    }
   ],
   "source": [
    "let\n",
    "\n",
    "    @testset verbose = true \"CHEME 5660 problem set 4 test suite\" begin\n",
    "\n",
    "        @testset \"Task 1: Minimum Variance Portfolio Tests\" begin\n",
    "            @test length(my_list_of_tickers) ≥ 10\n",
    "            @test typeof(problem_risk) == MyMarkowitzRiskyAssetOnlyPortfiolioChoiceProblem\n",
    "            @test isempty(efficient_frontier) == false\n",
    "            @test solution_min_var != nothing\n",
    "            @test isempty(wealth_array_minimum_variance) == false\n",
    "            @test i_see_the_efficient_frontier == true\n",
    "        end\n",
    "\n",
    "        @testset \"Task 2: Equally Weighted Portfolio Tests\" begin\n",
    "            @test isempty(EQW_Nₒ) == false\n",
    "            @test isempty(wealth_array_equally_weighted) == false\n",
    "        end\n",
    "\n",
    "        @testset \"Task 3: Wealth Tests\" begin\n",
    "            @test i_see_the_wealth_plot == true;\n",
    "        end\n",
    "    end\n",
    "end;"
   ]
  },
  {
   "cell_type": "markdown",
   "id": "366b5cce-042d-45b8-b5ea-72ccbfd59102",
   "metadata": {},
   "source": [
    "## Disclaimer and Risks\n",
    "__This content is offered solely for training and informational purposes__. No offer or solicitation to buy or sell securities or derivative products or any investment or trading advice or strategy is made, given, or endorsed by the teaching team. \n",
    "\n",
    "__Trading involves risk__. Carefully review your financial situation before investing in securities, futures contracts, options, or commodity interests. Past performance, whether actual or indicated by historical tests of strategies, is no guarantee of future performance or success. Trading is generally inappropriate for someone with limited resources, investment or trading experience, or a low-risk tolerance.  Only risk capital that is not required for living expenses.\n",
    "\n",
    "__You are fully responsible for any investment or trading decisions you make__. You should decide solely based on your financial circumstances, investment or trading objectives, risk tolerance, and liquidity needs."
   ]
  }
 ],
 "metadata": {
  "kernelspec": {
   "display_name": "Julia 1.11.1",
   "language": "julia",
   "name": "julia-1.11"
  },
  "language_info": {
   "file_extension": ".jl",
   "mimetype": "application/julia",
   "name": "julia",
   "version": "1.11.1"
  }
 },
 "nbformat": 4,
 "nbformat_minor": 5
}
